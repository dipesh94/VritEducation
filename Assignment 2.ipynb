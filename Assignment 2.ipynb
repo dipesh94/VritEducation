{
 "cells": [
  {
   "cell_type": "markdown",
   "id": "5ceb41e7-de83-49d4-b045-0e772f90d725",
   "metadata": {},
   "source": [
    "# Question : Book Keeper\n",
    " Following the data below , complete the given Tasks :"
   ]
  },
  {
   "cell_type": "code",
   "execution_count": 5,
   "id": "28d58a0b-27c3-4667-a53f-dcaa6a514b97",
   "metadata": {},
   "outputs": [
    {
     "name": "stdout",
     "output_type": "stream",
     "text": [
      "['The Alchemist']\n"
     ]
    }
   ],
   "source": [
    "# A list of tuples, where each tuple contains information about a book: (title, genre, year_published, times_borrowed).\n",
    "\n",
    "books = [\n",
    "    (\"The Alchemist\", \"Fiction\", 1988, 250),\n",
    "    (\"The Da Vinci Code\", \"Mystery\", 2003, 300),\n",
    "    (\"A Brief History of Time\", \"Science\", 1988, 150),\n",
    "    (\"The Theory of Everything\", \"Science\", 2002, 100),\n",
    "    (\"Pride and Prejudice\", \"Fiction\", 1813, 200),\n",
    "    (\"To Kill a Mockingbird\", \"Fiction\", 1960, 180),\n",
    "    (\"The Catcher in the Rye\", \"Fiction\", 1951, 220),\n",
    "    (\"Angels & Demons\", \"Mystery\", 2000, 210),\n",
    "    (\"The Grand Design\", \"Science\", 2010, 90),\n",
    "    (\"1984\", \"Fiction\", 1949, 190)\n",
    "]"
   ]
  },
  {
   "cell_type": "markdown",
   "id": "286b7bdc-69f3-4897-9a9a-a2f759d32255",
   "metadata": {},
   "source": [
    "# Task 01: \n",
    "Create a Book Filtering Function\n",
    "\n",
    "Given the list books as shown below, write a Python function named filter_books that filters books based on genre and publication year. The function should take two parameters: genre (a string) and year (an integer). It should return a list of book titles that match the given genre and have been published on or after the specified year.\n",
    "\n",
    "Try to use List Comprehension with If condition"
   ]
  },
  {
   "cell_type": "code",
   "execution_count": 6,
   "id": "09efa1d0-e7aa-4843-b0bd-55da78a17967",
   "metadata": {},
   "outputs": [
    {
     "name": "stdout",
     "output_type": "stream",
     "text": [
      "['The Alchemist']\n"
     ]
    }
   ],
   "source": [
    "def filter_books(genre, year):\n",
    "    filtered_books = [book[0] for book in books if book[1] == genre and book[2] >= year]\n",
    "    return filtered_books\n",
    "    \n",
    "print(filter_books(\"Fiction\", 1980))"
   ]
  },
  {
   "cell_type": "markdown",
   "id": "4696d7dc-7a1d-4c24-9264-a44a7d678410",
   "metadata": {},
   "source": [
    "# Task 02 : \n",
    "Write a Python function named borrowing_stats that uses dictionary comprehension to create and return a dictionary. This dictionary should map each book's title to the number of times it has been borrowed, but only include books from the \"Fiction\" genre."
   ]
  },
  {
   "cell_type": "code",
   "execution_count": 7,
   "id": "503ef945-d01b-4caa-a647-78589d0810d4",
   "metadata": {},
   "outputs": [
    {
     "name": "stdout",
     "output_type": "stream",
     "text": [
      "{'The Alchemist': 250, 'Pride and Prejudice': 200, 'To Kill a Mockingbird': 180, 'The Catcher in the Rye': 220, '1984': 190}\n"
     ]
    }
   ],
   "source": [
    "def borrowing_stats(books):\n",
    "    fiction_books = {book[0]: book[3] for book in books if book[1] == \"Fiction\"}\n",
    "    return fiction_books\n",
    "\n",
    "\n",
    "print(borrowing_stats(books))"
   ]
  },
  {
   "cell_type": "markdown",
   "id": "fdb564ea-ecb2-4dc6-8448-ac3101b37d6e",
   "metadata": {},
   "source": [
    "## Task 03 :\n",
    "Write a Python program that uses a lambda expression to sort this list by publication year in ascending order. Print the sorted list of books.\n",
    "\n",
    "Try using a lambda expression with the sorted() function"
   ]
  },
  {
   "cell_type": "code",
   "execution_count": 12,
   "id": "b07c54af-1e35-46ab-9592-3a78b07a66fb",
   "metadata": {},
   "outputs": [
    {
     "name": "stdout",
     "output_type": "stream",
     "text": [
      "('Pride and Prejudice', 'Fiction', 1813, 200)\n",
      "('1984', 'Fiction', 1949, 190)\n",
      "('The Catcher in the Rye', 'Fiction', 1951, 220)\n",
      "('To Kill a Mockingbird', 'Fiction', 1960, 180)\n",
      "('The Alchemist', 'Fiction', 1988, 250)\n",
      "('A Brief History of Time', 'Science', 1988, 150)\n",
      "('Angels & Demons', 'Mystery', 2000, 210)\n",
      "('The Theory of Everything', 'Science', 2002, 100)\n",
      "('The Da Vinci Code', 'Mystery', 2003, 300)\n",
      "('The Grand Design', 'Science', 2010, 90)\n"
     ]
    }
   ],
   "source": [
    "sorted_books = sorted(books, key=lambda book : book[2])\n",
    "for book in sorted_books:\n",
    "    print(book)"
   ]
  },
  {
   "cell_type": "markdown",
   "id": "835063d6-fac1-4456-93de-f367e015ed76",
   "metadata": {},
   "source": [
    "# Task 04:\n",
    "File Read and Write\n",
    "Write a Program that Uses Functions write_to_file and read_from_file:\n",
    "\n",
    "write_to_file(filename, content): Writes content to a file named filename. If the file doesn't exist, it should be created.\n",
    "\n",
    "read_from_file(filename): Reads and prints the content of a file named filename. Call write_to_file to write \"Hello, Python!\" to a file named \"greetings.txt\", then call read_from_file to read and print the content of this file."
   ]
  },
  {
   "cell_type": "code",
   "execution_count": 11,
   "id": "38ef33a3-1aa8-450e-9840-9b93afe03a1e",
   "metadata": {},
   "outputs": [
    {
     "name": "stdout",
     "output_type": "stream",
     "text": [
      "Hello, Python!\n"
     ]
    }
   ],
   "source": [
    "def write_to_file(filename, content):\n",
    "    file = open(filename, \"w\")\n",
    "    file.write(content)\n",
    "    file.close\n",
    "\n",
    "def read_from_file(filename):\n",
    "    file= open(filename, \"r\")\n",
    "    print(file.read())\n",
    "\n",
    "write_to_file(\"greetings.txt\", \"Hello, Python!\")\n",
    "read_from_file(\"greetings.txt\")"
   ]
  },
  {
   "cell_type": "code",
   "execution_count": null,
   "id": "435af5af-6ef3-4788-a744-4313ffdd1135",
   "metadata": {},
   "outputs": [],
   "source": []
  }
 ],
 "metadata": {
  "kernelspec": {
   "display_name": "Python 3 (ipykernel)",
   "language": "python",
   "name": "python3"
  },
  "language_info": {
   "codemirror_mode": {
    "name": "ipython",
    "version": 3
   },
   "file_extension": ".py",
   "mimetype": "text/x-python",
   "name": "python",
   "nbconvert_exporter": "python",
   "pygments_lexer": "ipython3",
   "version": "3.12.1"
  }
 },
 "nbformat": 4,
 "nbformat_minor": 5
}
