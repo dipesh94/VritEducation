{
 "cells": [
  {
   "cell_type": "code",
   "execution_count": 5,
   "id": "97562221-5c4a-445a-b88a-accff8732f7c",
   "metadata": {},
   "outputs": [
    {
     "name": "stdin",
     "output_type": "stream",
     "text": [
      "Enter first number:  5\n",
      "Enter second number:  6\n"
     ]
    },
    {
     "name": "stdout",
     "output_type": "stream",
     "text": [
      "The sum is 11\n"
     ]
    }
   ],
   "source": [
    "num_1 = int(input(\"Enter first number: \"))\n",
    "num_2 = int(input(\"Enter second number: \"))\n",
    "\n",
    "sum = num_1 + num_2\n",
    "print(f'The sum is {sum}')"
   ]
  },
  {
   "cell_type": "code",
   "execution_count": 10,
   "id": "2f7baea1-44bf-475d-9095-a5e8daa39c98",
   "metadata": {},
   "outputs": [
    {
     "name": "stdin",
     "output_type": "stream",
     "text": [
      "Enter length of square:  10\n"
     ]
    },
    {
     "name": "stdout",
     "output_type": "stream",
     "text": [
      "Area of square is 100\n"
     ]
    }
   ],
   "source": [
    "num = int(input(\"Enter length of square: \"))\n",
    "\n",
    "Area = num * num\n",
    "print(f'Area of square is {Area}')"
   ]
  },
  {
   "cell_type": "code",
   "execution_count": 13,
   "id": "f86a5a96-99b4-4d46-b409-5661c10659eb",
   "metadata": {},
   "outputs": [
    {
     "name": "stdin",
     "output_type": "stream",
     "text": [
      "Enter first number:  16.5\n",
      "Enter second number:  3.5\n"
     ]
    },
    {
     "name": "stdout",
     "output_type": "stream",
     "text": [
      "The average is 10.0\n"
     ]
    }
   ],
   "source": [
    "num1 = float(input(\"Enter first number: \"))\n",
    "num2 = float(input(\"Enter second number: \"))\n",
    "\n",
    "average = (num1 + num2) / 2\n",
    "print(f'The average is {average}')"
   ]
  },
  {
   "cell_type": "code",
   "execution_count": 20,
   "id": "7bcf4bf0-b890-460e-b5ee-80b7c231bbd3",
   "metadata": {},
   "outputs": [
    {
     "name": "stdin",
     "output_type": "stream",
     "text": [
      "Enter first number:  5\n",
      "Enter second number:  6\n"
     ]
    },
    {
     "name": "stdout",
     "output_type": "stream",
     "text": [
      "False\n"
     ]
    }
   ],
   "source": [
    "a = int(input(\"Enter first number: \"))\n",
    "b = int(input(\"Enter second number: \"))\n",
    "\n",
    "print(a >= b)"
   ]
  },
  {
   "cell_type": "code",
   "execution_count": 24,
   "id": "1776717b-23db-41d0-b2d6-abc06a6ade54",
   "metadata": {},
   "outputs": [
    {
     "name": "stdin",
     "output_type": "stream",
     "text": [
      "Enter first name:  Dipesh\n"
     ]
    },
    {
     "name": "stdout",
     "output_type": "stream",
     "text": [
      "6\n"
     ]
    }
   ],
   "source": [
    "name = input(\"Enter first name: \")\n",
    "print(len(name))"
   ]
  },
  {
   "cell_type": "code",
   "execution_count": 5,
   "id": "d8e9d037-f4a1-479d-9157-edb7f59b597e",
   "metadata": {},
   "outputs": [
    {
     "name": "stdout",
     "output_type": "stream",
     "text": [
      "3\n"
     ]
    }
   ],
   "source": [
    "str = \"Hi, $Iam the $ symbol $99.99\"\n",
    "print(str.count(\"$\"))"
   ]
  },
  {
   "cell_type": "code",
   "execution_count": 6,
   "id": "3fa79f87-c483-404e-960c-b1788df22d3f",
   "metadata": {},
   "outputs": [
    {
     "name": "stdin",
     "output_type": "stream",
     "text": [
      "Enter your marks:  50\n"
     ]
    },
    {
     "name": "stdout",
     "output_type": "stream",
     "text": [
      "Grade = D\n"
     ]
    }
   ],
   "source": [
    "marks = int(input(\"Enter your marks: \"))\n",
    "\n",
    "if marks >= 90:\n",
    "    print(\"Grade = A\")\n",
    "elif marks < 90 and marks >= 80:\n",
    "    print(\"Grade = B\")\n",
    "elif marks < 80 and marks >= 70:\n",
    "    print(\"Grade = C\")\n",
    "else:\n",
    "    print(\"Grade = D\")\n",
    "\n"
   ]
  },
  {
   "cell_type": "code",
   "execution_count": 9,
   "id": "3af277f1-0837-4816-9fa2-ff1659c3ecef",
   "metadata": {},
   "outputs": [
    {
     "name": "stdin",
     "output_type": "stream",
     "text": [
      "Enter a number :  5\n"
     ]
    },
    {
     "name": "stdout",
     "output_type": "stream",
     "text": [
      "5 is odd\n"
     ]
    }
   ],
   "source": [
    "number = int(input(\"Enter a number : \"))\n",
    "\n",
    "if number % 2 == 0:\n",
    "    print(f'{number} is even')\n",
    "else:\n",
    "    print(f'{number} is odd')"
   ]
  },
  {
   "cell_type": "code",
   "execution_count": 12,
   "id": "b7f05749-060d-451f-be9a-3ce7fd611adf",
   "metadata": {},
   "outputs": [
    {
     "name": "stdin",
     "output_type": "stream",
     "text": [
      "Enter a:  7\n",
      "Enter b:  5\n",
      "Enter c:  4\n"
     ]
    },
    {
     "name": "stdout",
     "output_type": "stream",
     "text": [
      "7 is greatest\n"
     ]
    }
   ],
   "source": [
    "a = int(input(\"Enter a: \"))\n",
    "b = int(input(\"Enter b: \"))\n",
    "c = int(input(\"Enter c: \"))\n",
    "\n",
    "if a > b and a > c:\n",
    "    print(f'{a} is greatest')\n",
    "elif b > a and b > c:\n",
    "    print(f'{b} is greatest')\n",
    "else:\n",
    "    print(f'{c} is greatest')"
   ]
  },
  {
   "cell_type": "code",
   "execution_count": 16,
   "id": "ea858aa3-00be-4415-bef1-2c855a57dcbd",
   "metadata": {},
   "outputs": [
    {
     "name": "stdin",
     "output_type": "stream",
     "text": [
      "Enter a number:  25\n"
     ]
    },
    {
     "name": "stdout",
     "output_type": "stream",
     "text": [
      "25 is not multiple by 7\n"
     ]
    }
   ],
   "source": [
    "number = int(input(\"Enter a number: \"))\n",
    "\n",
    "if number % 7 == 0:\n",
    "    print(f'{number} is multiple by 7')\n",
    "else:\n",
    "    print(f'{number} is not multiple by 7')"
   ]
  },
  {
   "cell_type": "code",
   "execution_count": 22,
   "id": "39eac399-16d0-44c2-984f-acdbacaf2b36",
   "metadata": {},
   "outputs": [
    {
     "name": "stdin",
     "output_type": "stream",
     "text": [
      "Enter first movie:  Pathan\n",
      "Enter second movie:  Lagaan\n",
      "Enter third movie:  Jawaan\n"
     ]
    },
    {
     "name": "stdout",
     "output_type": "stream",
     "text": [
      "['Pathan', 'Lagaan', 'Jawaan']\n"
     ]
    }
   ],
   "source": [
    "movies = []\n",
    "a = input(\"Enter first movie: \")\n",
    "b = input(\"Enter second movie: \")\n",
    "c = input(\"Enter third movie: \")\n",
    "\n",
    "movies.append(a)\n",
    "movies.append(b)\n",
    "movies.append(c)\n",
    "\n",
    "print(movies)"
   ]
  },
  {
   "cell_type": "code",
   "execution_count": 28,
   "id": "1b9638a5-e25d-4ce7-96bb-382cbc47f1fa",
   "metadata": {},
   "outputs": [
    {
     "data": {
      "text/plain": [
       "15"
      ]
     },
     "execution_count": 28,
     "metadata": {},
     "output_type": "execute_result"
    }
   ],
   "source": [
    "def calc_sum(a, b):\n",
    "    sum = a + b\n",
    "    return sum\n",
    "\n",
    "calc_sum(5, 10)"
   ]
  },
  {
   "cell_type": "code",
   "execution_count": 33,
   "id": "b18792d2-36c2-4d8d-a085-f0f6b12cd1de",
   "metadata": {},
   "outputs": [
    {
     "data": {
      "text/plain": [
       "15"
      ]
     },
     "execution_count": 33,
     "metadata": {},
     "output_type": "execute_result"
    }
   ],
   "source": [
    "def calc_sum(a, b):\n",
    "    return a + b\n",
    "\n",
    "calc_sum(5, 10)"
   ]
  },
  {
   "cell_type": "code",
   "execution_count": 35,
   "id": "b2f44d43-6df0-4e0b-b18f-b78e2cf05441",
   "metadata": {},
   "outputs": [
    {
     "name": "stdout",
     "output_type": "stream",
     "text": [
      "hello\n"
     ]
    }
   ],
   "source": [
    "def print_hello():\n",
    "    print(\"hello\")\n",
    "    \n",
    "print_hello()"
   ]
  },
  {
   "cell_type": "code",
   "execution_count": 37,
   "id": "afae6bd3-a548-4944-9f29-8b573cee2f03",
   "metadata": {},
   "outputs": [
    {
     "data": {
      "text/plain": [
       "6.0"
      ]
     },
     "execution_count": 37,
     "metadata": {},
     "output_type": "execute_result"
    }
   ],
   "source": [
    "def avg_value(a, b, c):\n",
    "    average = (a + b + c) / 3\n",
    "    return average\n",
    "\n",
    "avg_value(5, 6, 7)"
   ]
  },
  {
   "cell_type": "code",
   "execution_count": null,
   "id": "93c420e3-1941-4398-8dc2-7eab3d00e42e",
   "metadata": {},
   "outputs": [],
   "source": []
  }
 ],
 "metadata": {
  "kernelspec": {
   "display_name": "Python 3 (ipykernel)",
   "language": "python",
   "name": "python3"
  },
  "language_info": {
   "codemirror_mode": {
    "name": "ipython",
    "version": 3
   },
   "file_extension": ".py",
   "mimetype": "text/x-python",
   "name": "python",
   "nbconvert_exporter": "python",
   "pygments_lexer": "ipython3",
   "version": "3.12.1"
  }
 },
 "nbformat": 4,
 "nbformat_minor": 5
}
