{
 "cells": [
  {
   "cell_type": "markdown",
   "id": "a7fd9b5d-b330-44b8-acee-f2ecfdf945d8",
   "metadata": {},
   "source": [
    "# Object Oriented Programming"
   ]
  },
  {
   "cell_type": "markdown",
   "id": "7d3c10ec-cc97-4b23-954d-edd383cb3926",
   "metadata": {},
   "source": [
    "## Class and Objects"
   ]
  },
  {
   "cell_type": "code",
   "execution_count": 6,
   "id": "97f379d5-e3fa-4999-9c3c-a419c56a78fb",
   "metadata": {},
   "outputs": [],
   "source": [
    "class Calculator:\n",
    "    def __init__(self, num_1, num_2):\n",
    "        self.num_1 = num_1\n",
    "        self.num_2 = num_2\n",
    "\n",
    "    def add(self):\n",
    "        sum = self.num_1 + self.num_2\n",
    "        return sum"
   ]
  },
  {
   "cell_type": "code",
   "execution_count": 7,
   "id": "6ada3f5e-854e-4e3c-9f17-6e8dbac6208d",
   "metadata": {},
   "outputs": [],
   "source": [
    "# num1 = int(input(\"\"))\n",
    "vrit_cal = Calculator(10,5)"
   ]
  },
  {
   "cell_type": "code",
   "execution_count": 8,
   "id": "252fa5b6-e056-4ff5-ad09-084a413192f6",
   "metadata": {},
   "outputs": [
    {
     "data": {
      "text/plain": [
       "15"
      ]
     },
     "execution_count": 8,
     "metadata": {},
     "output_type": "execute_result"
    }
   ],
   "source": [
    "vrit_cal.add()"
   ]
  },
  {
   "cell_type": "code",
   "execution_count": 9,
   "id": "edcf85ae-2a21-4bad-a03b-c15be8a68b0c",
   "metadata": {},
   "outputs": [],
   "source": [
    "class Dog:\n",
    "    def __init__(self, name, age):\n",
    "        self.name = name\n",
    "        self.age = age\n",
    "\n",
    "    def bark(self):\n",
    "        print(f\"{self.name} is barking!\")"
   ]
  },
  {
   "cell_type": "code",
   "execution_count": 10,
   "id": "5344805f-a0ba-4b0b-9ac4-126af4881629",
   "metadata": {},
   "outputs": [
    {
     "name": "stdout",
     "output_type": "stream",
     "text": [
      "<class '__main__.Dog'>\n"
     ]
    }
   ],
   "source": [
    "my_dog = Dog(\"Buddy\", 3)\n",
    "print(type(my_dog))"
   ]
  },
  {
   "cell_type": "code",
   "execution_count": 11,
   "id": "3441baf2-890a-4c78-8600-61d826920328",
   "metadata": {},
   "outputs": [
    {
     "name": "stdout",
     "output_type": "stream",
     "text": [
      "Buddy\n",
      "3\n"
     ]
    }
   ],
   "source": [
    "print(my_dog.name)\n",
    "print(my_dog.age)"
   ]
  },
  {
   "cell_type": "code",
   "execution_count": 12,
   "id": "75b3e093-c535-45e3-a352-e86d5ef0e33a",
   "metadata": {},
   "outputs": [
    {
     "name": "stdout",
     "output_type": "stream",
     "text": [
      "Buddy is barking!\n"
     ]
    }
   ],
   "source": [
    "my_dog.bark()"
   ]
  },
  {
   "cell_type": "code",
   "execution_count": 13,
   "id": "1aba6c46-fc07-4440-8c15-c59fc6073bdc",
   "metadata": {},
   "outputs": [],
   "source": [
    "your_dog = Dog(\"Rocky\",4)"
   ]
  },
  {
   "cell_type": "markdown",
   "id": "d387d611-eb82-41df-877d-90862cec8337",
   "metadata": {},
   "source": [
    "## Types of Attributes"
   ]
  },
  {
   "cell_type": "markdown",
   "id": "e9c1c921-b965-4344-b025-d39ef0c31d0c",
   "metadata": {},
   "source": [
    "### 1. Instance Attributes"
   ]
  },
  {
   "cell_type": "markdown",
   "id": "082f65c6-77f7-48ab-ac8d-4c7cbe84e7cf",
   "metadata": {},
   "source": [
    "### 2. Class Attributes"
   ]
  },
  {
   "cell_type": "markdown",
   "id": "5437e8a4-5d24-45d8-90e4-ccfa72d6491f",
   "metadata": {},
   "source": [
    "## Types of Methods"
   ]
  },
  {
   "cell_type": "markdown",
   "id": "97e10925-066e-4318-b506-3eabfa37c05c",
   "metadata": {},
   "source": [
    "### 1. Instance Methods"
   ]
  },
  {
   "cell_type": "markdown",
   "id": "94c03adc-9339-488a-95e9-4ce1d3124b9d",
   "metadata": {},
   "source": [
    "### 2. Class Methods"
   ]
  },
  {
   "cell_type": "markdown",
   "id": "2608d99d-9b40-40f6-a008-cca3ac7ca97f",
   "metadata": {},
   "source": [
    "### 3. Static Methods"
   ]
  },
  {
   "cell_type": "code",
   "execution_count": 14,
   "id": "8d0c651c-ae0a-445b-9664-dc08816580cc",
   "metadata": {},
   "outputs": [],
   "source": [
    "class Person:\n",
    "    count = 0  # Class attribute\n",
    "\n",
    "    def __init__(self, name):\n",
    "        self.name = name\n",
    "        Person.count += 1\n",
    "\n",
    "    def update_name(self,new_name):\n",
    "        self.name = str(new_name)\n",
    "        \n",
    "    @classmethod\n",
    "    def get_count(cls):  #Defining Class method\n",
    "        return cls.count\n",
    "    \n",
    "    @staticmethod\n",
    "    def get_full_name(firstname, secondname):\n",
    "        return f'{firstname} {secondname}'"
   ]
  },
  {
   "cell_type": "code",
   "execution_count": 15,
   "id": "0113f523-bd91-4e62-b9bb-170621a4b812",
   "metadata": {},
   "outputs": [
    {
     "name": "stdout",
     "output_type": "stream",
     "text": [
      "0\n"
     ]
    }
   ],
   "source": [
    "print(Person.get_count())"
   ]
  },
  {
   "cell_type": "code",
   "execution_count": 16,
   "id": "9221a384-c0e4-4ee2-aae1-510d513f1cf5",
   "metadata": {},
   "outputs": [
    {
     "name": "stdout",
     "output_type": "stream",
     "text": [
      "Shyam\n",
      "1\n"
     ]
    }
   ],
   "source": [
    "person1 = Person(\"Shyam\")\n",
    "print(person1.name)\n",
    "print(Person.get_count())"
   ]
  },
  {
   "cell_type": "code",
   "execution_count": 17,
   "id": "49985610-417e-4fc6-b567-51c56ecf3cbd",
   "metadata": {},
   "outputs": [
    {
     "name": "stdout",
     "output_type": "stream",
     "text": [
      "Ram\n",
      "2\n"
     ]
    }
   ],
   "source": [
    "person2 = Person(\"Ram\")\n",
    "print(person2.name)\n",
    "print(Person.get_count())"
   ]
  },
  {
   "cell_type": "code",
   "execution_count": 18,
   "id": "80006fca-d6f3-4874-8509-9443c2638e50",
   "metadata": {},
   "outputs": [
    {
     "name": "stdout",
     "output_type": "stream",
     "text": [
      "Hari\n",
      "3\n"
     ]
    }
   ],
   "source": [
    "person3 = Person(\"Hari\")\n",
    "print(person3.name)\n",
    "print(Person.get_count())"
   ]
  },
  {
   "cell_type": "code",
   "execution_count": null,
   "id": "905031ae-a1c6-4469-86de-d384f2b84dfc",
   "metadata": {},
   "outputs": [],
   "source": [
    "'''\n",
    "1. Create class LIbrary \n",
    "2. constructor , student name and dept\n",
    "3. Class attribute , total student count\n",
    "4. book lend, input book name , if he/she caqn lend it or not\n",
    "'''"
   ]
  },
  {
   "cell_type": "code",
   "execution_count": 21,
   "id": "214310bc-1748-4c4e-a1ee-d4d580a93551",
   "metadata": {},
   "outputs": [],
   "source": [
    "books = [ \n",
    "    (\"The Alchemist\", 25),\n",
    "    (\"The Da Vinci Code\", 30),\n",
    "    (\"A Brief History of Time\", 15),\n",
    "    (\"Angels & Demons\", 0),\n",
    "    (\"The Grand Design\", 0),\n",
    "    (\"1984\", 19)\n",
    "]"
   ]
  },
  {
   "cell_type": "code",
   "execution_count": 22,
   "id": "f1e2bd0c-3a68-4a86-8146-2c3cc546ec25",
   "metadata": {},
   "outputs": [],
   "source": [
    "class Library:\n",
    "    st_count = 0\n",
    "    \n",
    "    def __init__(inst, name, dept = \"Engineering\"):\n",
    "        inst.books = [ \n",
    "            (\"The Alchemist\", 25),\n",
    "            (\"The Da Vinci Code\", 30),\n",
    "            (\"A Brief History of Time\", 15),\n",
    "            (\"Angels & Demons\", 0),\n",
    "            (\"The Grand Design\", 0),\n",
    "            (\"1984\", 19)\n",
    "        ]\n",
    "        inst.student_name = name\n",
    "        inst.department = dept\n",
    "        Library.st_count += 1\n",
    "\n",
    "    def can_burrow(inst, book_name):\n",
    "        status =[ book for name, quantity in inst.books if (name == book_name) & (quantity > 0) ]\n",
    "        if status:\n",
    "            print(\"Yes\")\n",
    "        else:\n",
    "            print(\"No\")\n",
    "        \n",
    "    @classmethod\n",
    "    def get_student_count(self):\n",
    "        return self.st_count\n",
    "        \n",
    "        "
   ]
  },
  {
   "cell_type": "code",
   "execution_count": 23,
   "id": "07aad6e3-1e0c-4857-932e-a46b9d15d524",
   "metadata": {},
   "outputs": [],
   "source": [
    "std1 = Library(\"Vrit\")"
   ]
  },
  {
   "cell_type": "code",
   "execution_count": 24,
   "id": "552d09f6-88ae-4c0b-92ef-016ac5aabf7c",
   "metadata": {},
   "outputs": [
    {
     "data": {
      "text/plain": [
       "1"
      ]
     },
     "execution_count": 24,
     "metadata": {},
     "output_type": "execute_result"
    }
   ],
   "source": [
    "std1.get_student_count()"
   ]
  },
  {
   "cell_type": "code",
   "execution_count": 26,
   "id": "6454a9cf-7aab-4ae9-b184-43010f61f347",
   "metadata": {},
   "outputs": [
    {
     "name": "stdout",
     "output_type": "stream",
     "text": [
      "No\n"
     ]
    }
   ],
   "source": [
    "std1.can_burrow(\"The Grand Design\")"
   ]
  },
  {
   "cell_type": "markdown",
   "id": "8a644740-7f24-474d-a999-06cac9392c69",
   "metadata": {},
   "source": [
    "# Method Overloading in Python"
   ]
  },
  {
   "cell_type": "code",
   "execution_count": 27,
   "id": "7c9a6424-b687-485f-8502-faf8158ef665",
   "metadata": {},
   "outputs": [],
   "source": [
    "class Example:\n",
    "    def add(self, a, b=None, c=None):\n",
    "        if b is not None and c is not None:\n",
    "            return a + b + c\n",
    "        elif b is not None:\n",
    "            return a + b\n",
    "        else:\n",
    "            return a"
   ]
  },
  {
   "cell_type": "code",
   "execution_count": 28,
   "id": "077085e6-ebc7-46d1-96d3-ff26a531611f",
   "metadata": {},
   "outputs": [],
   "source": [
    "class Example:\n",
    "    def add(self, *args):\n",
    "        if len(args) == 1:\n",
    "            return args[0]\n",
    "        elif len(args) == 2:\n",
    "            return args[0] + args[1]\n",
    "        elif len(args) == 3:\n",
    "            return args[0] + args[1] + args[2]"
   ]
  },
  {
   "cell_type": "markdown",
   "id": "3521434b-7e80-4d7f-ad0d-19dc54aa4c94",
   "metadata": {},
   "source": [
    "# Inheritance in Python"
   ]
  },
  {
   "cell_type": "markdown",
   "id": "05015772-333c-4dcb-bdf4-2d2a93500f60",
   "metadata": {},
   "source": [
    "## 1. Single Inheritance"
   ]
  },
  {
   "cell_type": "code",
   "execution_count": 29,
   "id": "5d8790e2-3eac-46d9-9181-b2dae43f8b64",
   "metadata": {},
   "outputs": [],
   "source": [
    "class Animal:\n",
    "    def __init__(self, name, age):\n",
    "        self.name = name\n",
    "        self.age = age\n",
    "\n",
    "    def intro(self):\n",
    "        print(f\"My name is {self.name}.\")\n",
    "\n",
    "class Cat(Animal):\n",
    "    def __init__(self, name, age, color):\n",
    "        super().__init__(name, age)\n",
    "        self.color = color\n",
    "\n",
    "    def speak(self):\n",
    "        print(\"Meow!\")\n",
    "\n",
    "my_cat = Cat(\"Fluffy\", 3, \"gray\")"
   ]
  },
  {
   "cell_type": "code",
   "execution_count": 30,
   "id": "f68671da-814b-4f31-ab11-e761f8819197",
   "metadata": {},
   "outputs": [
    {
     "name": "stdout",
     "output_type": "stream",
     "text": [
      "Fluffy\n",
      "3\n",
      "gray\n"
     ]
    }
   ],
   "source": [
    "print(my_cat.name)\n",
    "print(my_cat.age)\n",
    "print(my_cat.color)"
   ]
  },
  {
   "cell_type": "code",
   "execution_count": 31,
   "id": "9fc24f1b-bcc2-45ae-910a-9f6382c62d8a",
   "metadata": {},
   "outputs": [
    {
     "name": "stdout",
     "output_type": "stream",
     "text": [
      "Meow!\n"
     ]
    }
   ],
   "source": [
    "my_cat.speak()"
   ]
  },
  {
   "cell_type": "code",
   "execution_count": 32,
   "id": "05504dbd-65b0-437e-b1bb-8d42dc795e22",
   "metadata": {},
   "outputs": [
    {
     "name": "stdout",
     "output_type": "stream",
     "text": [
      "My name is Fluffy.\n"
     ]
    }
   ],
   "source": [
    "my_cat.intro()"
   ]
  },
  {
   "cell_type": "markdown",
   "id": "d3ccdbe3-5172-49ae-af3c-1dcd08b3867f",
   "metadata": {},
   "source": [
    "## 2. Multiple Inheritance"
   ]
  },
  {
   "cell_type": "code",
   "execution_count": 33,
   "id": "d48d058e-2b42-41eb-97ae-c8643650be5a",
   "metadata": {},
   "outputs": [
    {
     "name": "stdout",
     "output_type": "stream",
     "text": [
      "This is Parent 1 function.\n",
      "This is Parent 2 function.\n",
      "This is Child function.\n"
     ]
    }
   ],
   "source": [
    "class Parent1:\n",
    "    def func1(self):\n",
    "        print(\"This is Parent 1 function.\")\n",
    "\n",
    "class Parent2:\n",
    "    def func2(self):\n",
    "        print(\"This is Parent 2 function.\")\n",
    "\n",
    "class Child(Parent1, Parent2):\n",
    "    def func3(self):\n",
    "        print(\"This is Child function.\")\n",
    "\n",
    "# create an object of Child class\n",
    "obj = Child()\n",
    "\n",
    "# access functions using the object\n",
    "obj.func1()\n",
    "obj.func2()\n",
    "obj.func3()"
   ]
  },
  {
   "cell_type": "markdown",
   "id": "37c6e5b5-8428-42aa-9763-ce4243535312",
   "metadata": {},
   "source": [
    "## 3. Multi-Level Inheritance"
   ]
  },
  {
   "cell_type": "code",
   "execution_count": 34,
   "id": "64b2e0e3-c0fe-4043-b6a6-9a8e478ef34b",
   "metadata": {},
   "outputs": [
    {
     "name": "stdout",
     "output_type": "stream",
     "text": [
      "This is method A from class A\n",
      "This is method B from class B\n",
      "This is method C from class C\n"
     ]
    }
   ],
   "source": [
    "class A:\n",
    "    def method_a(self):\n",
    "        print(\"This is method A from class A\")\n",
    "\n",
    "class B(A):\n",
    "    def method_b(self):\n",
    "        print(\"This is method B from class B\")\n",
    "\n",
    "class C(B):\n",
    "    def method_c(self):\n",
    "        print(\"This is method C from class C\")\n",
    "\n",
    "obj = C()\n",
    "obj.method_a()\n",
    "obj.method_b()\n",
    "obj.method_c()"
   ]
  },
  {
   "cell_type": "markdown",
   "id": "b5e440bd-6421-4177-975d-4d4c7a192116",
   "metadata": {},
   "source": [
    "## 4. Hierarchical Inheritance"
   ]
  },
  {
   "cell_type": "code",
   "execution_count": 35,
   "id": "cc53cf0d-c204-4308-ab63-63f4aeb546a6",
   "metadata": {},
   "outputs": [
    {
     "name": "stdout",
     "output_type": "stream",
     "text": [
      "Meow\n",
      "Woof\n",
      "Roar\n",
      "Simba\n"
     ]
    }
   ],
   "source": [
    "class Animal:\n",
    "    def __init__(self, name):\n",
    "        self.name = name\n",
    "    \n",
    "    def intro(self):\n",
    "        pass\n",
    "\n",
    "class Cat(Animal):\n",
    "    def speak(self):\n",
    "        return \"Meow\"\n",
    "    \n",
    "class Dog(Animal):\n",
    "    def speak(self):\n",
    "        return \"Woof\"\n",
    "    \n",
    "class Lion(Animal):\n",
    "    def speak(self):\n",
    "        return \"Roar\"\n",
    "\n",
    "cat = Cat(\"Fluffy\")\n",
    "dog = Dog(\"Fido\")\n",
    "lion = Lion(\"Simba\")\n",
    "\n",
    "print(cat.speak())\n",
    "print(dog.speak())\n",
    "print(lion.speak())\n",
    "print(lion.name)"
   ]
  },
  {
   "cell_type": "markdown",
   "id": "4827403b-8f1c-4cc6-bf0e-5d948a69430a",
   "metadata": {},
   "source": [
    "## 5. Hybrid Inheritance"
   ]
  },
  {
   "cell_type": "code",
   "execution_count": 36,
   "id": "003ff6cb-0643-4072-9868-1226ecf49ea6",
   "metadata": {},
   "outputs": [
    {
     "name": "stdout",
     "output_type": "stream",
     "text": [
      "Bruce is speaking.\n",
      "Bruce is feeding milk.\n",
      "Bruce is flying.\n"
     ]
    }
   ],
   "source": [
    "class Animal:\n",
    "    def __init__(self, name):\n",
    "        self.name = name\n",
    "    \n",
    "    def speak(self):\n",
    "        print(f\"{self.name} is speaking.\")\n",
    "\n",
    "class Mammal(Animal):\n",
    "    def __init__(self, name):\n",
    "        super().__init__(name)\n",
    "    \n",
    "    def feed_milk(self):\n",
    "        print(f\"{self.name} is feeding milk.\")\n",
    "\n",
    "class Bird(Animal):\n",
    "    def __init__(self, name):\n",
    "        super().__init__(name)\n",
    "    \n",
    "    def fly(self):\n",
    "        print(f\"{self.name} is flying.\")\n",
    "\n",
    "class Bat(Mammal, Bird):\n",
    "    def __init__(self, name):\n",
    "        super().__init__(name)\n",
    "\n",
    "b = Bat(\"Bruce\")\n",
    "b.speak()\n",
    "b.feed_milk()\n",
    "b.fly()"
   ]
  },
  {
   "cell_type": "code",
   "execution_count": null,
   "id": "3cb91e01-f162-4a19-b574-53512fe8cf9f",
   "metadata": {},
   "outputs": [],
   "source": []
  }
 ],
 "metadata": {
  "kernelspec": {
   "display_name": "Python 3 (ipykernel)",
   "language": "python",
   "name": "python3"
  },
  "language_info": {
   "codemirror_mode": {
    "name": "ipython",
    "version": 3
   },
   "file_extension": ".py",
   "mimetype": "text/x-python",
   "name": "python",
   "nbconvert_exporter": "python",
   "pygments_lexer": "ipython3",
   "version": "3.12.1"
  }
 },
 "nbformat": 4,
 "nbformat_minor": 5
}
