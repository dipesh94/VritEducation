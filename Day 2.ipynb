{
 "cells": [
  {
   "cell_type": "markdown",
   "id": "4f186cfa-9c42-44fc-960b-94c80547e5fc",
   "metadata": {},
   "source": [
    "# Python Sequence Types"
   ]
  },
  {
   "cell_type": "markdown",
   "id": "03462efc-6c07-43ce-8e8b-db483ea89413",
   "metadata": {},
   "source": [
    "## 1. List"
   ]
  },
  {
   "cell_type": "markdown",
   "id": "9c0cd4bd-b8f6-4e56-847b-8ac7e7187d55",
   "metadata": {},
   "source": [
    "### Defining Lists"
   ]
  },
  {
   "cell_type": "code",
   "execution_count": 1,
   "id": "32af3d0a-d74f-404b-88b3-3a9a74903943",
   "metadata": {},
   "outputs": [],
   "source": [
    "x = [1, 2, 3, 4, 5]\n",
    "y = ['apple', 'banana', 'orange']\n",
    "z = [1, 'apple', True, 3.14]"
   ]
  },
  {
   "cell_type": "code",
   "execution_count": 2,
   "id": "72c95cfd-8299-4b42-84df-069d35d30cac",
   "metadata": {},
   "outputs": [
    {
     "name": "stdout",
     "output_type": "stream",
     "text": [
      "[1, 'apple', True, 3.14]\n"
     ]
    }
   ],
   "source": [
    "print(z)"
   ]
  },
  {
   "cell_type": "markdown",
   "id": "ea65de48-3a29-440c-9ec4-63345dd4a1ee",
   "metadata": {},
   "source": [
    "### Accessing List Items"
   ]
  },
  {
   "cell_type": "code",
   "execution_count": 3,
   "id": "544a6344-d844-4cac-a8e8-f67438844fad",
   "metadata": {},
   "outputs": [],
   "source": [
    "x = [1, 2, 3, 4, 5]"
   ]
  },
  {
   "cell_type": "code",
   "execution_count": 4,
   "id": "769ee847-610c-493f-b1e5-9e6d6adf8b4b",
   "metadata": {},
   "outputs": [
    {
     "name": "stdout",
     "output_type": "stream",
     "text": [
      "1\n"
     ]
    }
   ],
   "source": [
    "print(x[0])"
   ]
  },
  {
   "cell_type": "code",
   "execution_count": 5,
   "id": "35e6007c-21dc-4832-a5ea-8362a1101d85",
   "metadata": {},
   "outputs": [
    {
     "name": "stdout",
     "output_type": "stream",
     "text": [
      "5\n"
     ]
    }
   ],
   "source": [
    "print(x[-1])"
   ]
  },
  {
   "cell_type": "code",
   "execution_count": 6,
   "id": "1da30d1a-e48b-4a06-8008-62bc86a6a8e0",
   "metadata": {},
   "outputs": [
    {
     "name": "stdout",
     "output_type": "stream",
     "text": [
      "4\n"
     ]
    }
   ],
   "source": [
    "print(x[-2])"
   ]
  },
  {
   "cell_type": "markdown",
   "id": "a0dcda63-cf61-4d07-8ea0-22ef27282ff6",
   "metadata": {},
   "source": [
    "### Slicing Lists"
   ]
  },
  {
   "cell_type": "code",
   "execution_count": 7,
   "id": "d4e4306b-61ce-4d7e-8da5-1c5b4b71c751",
   "metadata": {},
   "outputs": [],
   "source": [
    "x = [1, 2, 3, 4, 5]"
   ]
  },
  {
   "cell_type": "code",
   "execution_count": 9,
   "id": "53c85722-6b14-4d0c-bc77-c933d24a24d1",
   "metadata": {},
   "outputs": [
    {
     "ename": "SyntaxError",
     "evalue": "invalid syntax. Perhaps you forgot a comma? (2913764285.py, line 1)",
     "output_type": "error",
     "traceback": [
      "\u001b[1;36m  Cell \u001b[1;32mIn[9], line 1\u001b[1;36m\u001b[0m\n\u001b[1;33m    variable[start index : stop index : step ]\u001b[0m\n\u001b[1;37m             ^\u001b[0m\n\u001b[1;31mSyntaxError\u001b[0m\u001b[1;31m:\u001b[0m invalid syntax. Perhaps you forgot a comma?\n"
     ]
    }
   ],
   "source": [
    "variable[start index : stop index : step ]"
   ]
  },
  {
   "cell_type": "code",
   "execution_count": 10,
   "id": "539c0683-97f2-4e99-b55d-8e29eb976e0a",
   "metadata": {},
   "outputs": [
    {
     "name": "stdout",
     "output_type": "stream",
     "text": [
      "[1, 2, 3]\n"
     ]
    }
   ],
   "source": [
    "print(x[0:3])"
   ]
  },
  {
   "cell_type": "code",
   "execution_count": 11,
   "id": "47139b2e-eacf-4572-9793-22153cf3869f",
   "metadata": {},
   "outputs": [
    {
     "name": "stdout",
     "output_type": "stream",
     "text": [
      "[1, 2, 3]\n"
     ]
    }
   ],
   "source": [
    "print(x[:3])"
   ]
  },
  {
   "cell_type": "code",
   "execution_count": 12,
   "id": "a85179a1-449d-44f1-b28b-e783d97e24a1",
   "metadata": {},
   "outputs": [
    {
     "name": "stdout",
     "output_type": "stream",
     "text": [
      "[1, 3, 5]\n"
     ]
    }
   ],
   "source": [
    "print(x[::2])"
   ]
  },
  {
   "cell_type": "code",
   "execution_count": 13,
   "id": "46381bcf-019d-4a51-9d95-78142fbe7b2c",
   "metadata": {},
   "outputs": [
    {
     "name": "stdout",
     "output_type": "stream",
     "text": [
      "[3, 4, 5]\n"
     ]
    }
   ],
   "source": [
    "print(x[2:])"
   ]
  },
  {
   "cell_type": "markdown",
   "id": "84cbb309-16fe-4188-bce8-70cc3c8411d8",
   "metadata": {},
   "source": [
    "### Modifying Lists"
   ]
  },
  {
   "cell_type": "code",
   "execution_count": 14,
   "id": "6acf2653-41e7-425a-ae25-405dcfaab854",
   "metadata": {},
   "outputs": [
    {
     "name": "stdout",
     "output_type": "stream",
     "text": [
      "[1, 2, 10, 4, 5]\n"
     ]
    }
   ],
   "source": [
    "x = [1, 2, 3, 4, 5]\n",
    "\n",
    "x[2] = 10\n",
    "print(x)"
   ]
  },
  {
   "cell_type": "code",
   "execution_count": 15,
   "id": "43c7bc86-218d-4ac7-9147-cd7c5e5f7a6b",
   "metadata": {},
   "outputs": [
    {
     "name": "stdout",
     "output_type": "stream",
     "text": [
      "[1, 2, 3, 4, 5, 10]\n"
     ]
    }
   ],
   "source": [
    "x = [1, 2, 3, 4, 5]\n",
    "\n",
    "x.append(10)  # Adds an item to the end of the list\n",
    "print(x)"
   ]
  },
  {
   "cell_type": "code",
   "execution_count": 16,
   "id": "756840f3-4040-4f4e-b6cc-6128864d2bfe",
   "metadata": {},
   "outputs": [
    {
     "name": "stdout",
     "output_type": "stream",
     "text": [
      "[1, 2, 'apple', 3, 4, 5]\n"
     ]
    }
   ],
   "source": [
    "x = [1, 2, 3, 4, 5]\n",
    "\n",
    "x.insert(2, \"apple\")  # Adds an item at a specific index in the list\n",
    "print(x)"
   ]
  },
  {
   "cell_type": "code",
   "execution_count": 17,
   "id": "385b4a5e-5627-4b9c-b493-b10e98569806",
   "metadata": {},
   "outputs": [
    {
     "name": "stdout",
     "output_type": "stream",
     "text": [
      "[1, 2, 3, 4, 5]\n"
     ]
    }
   ],
   "source": [
    "x.remove(\"apple\")  # Removes the first occurrence of the specified item from the list\n",
    "print(x)"
   ]
  },
  {
   "cell_type": "code",
   "execution_count": 18,
   "id": "4eaf462e-c397-4cea-9518-ebfeca6210bc",
   "metadata": {},
   "outputs": [
    {
     "name": "stdout",
     "output_type": "stream",
     "text": [
      "[1, 3, 4, 5]\n"
     ]
    }
   ],
   "source": [
    "x.pop(1)  # Removes and returns the item at the specified index\n",
    "print(x)  # If no index is specified, it removes and returns the last item in the list"
   ]
  },
  {
   "cell_type": "code",
   "execution_count": 19,
   "id": "28177205-45da-4afe-84dd-4aba29a7a681",
   "metadata": {},
   "outputs": [
    {
     "name": "stdout",
     "output_type": "stream",
     "text": [
      "[]\n"
     ]
    }
   ],
   "source": [
    "x.clear()  # Removes all items from the list\n",
    "print(x)"
   ]
  },
  {
   "cell_type": "markdown",
   "id": "92981293-d118-4246-ba07-15620d1cd5f8",
   "metadata": {},
   "source": [
    "### List Methods"
   ]
  },
  {
   "cell_type": "code",
   "execution_count": 20,
   "id": "38adfea6-62a0-40f1-9e2a-84c37cc605fc",
   "metadata": {},
   "outputs": [
    {
     "name": "stdout",
     "output_type": "stream",
     "text": [
      "[1, 1, 2, 3, 3, 4, 5, 5, 6, 9]\n",
      "[9, 6, 5, 5, 4, 3, 3, 2, 1, 1]\n",
      "[1, 1, 2, 3, 3, 4, 5, 5, 6, 9]\n",
      "0\n",
      "2\n"
     ]
    }
   ],
   "source": [
    "x = [3, 1, 4, 1, 5, 9, 2, 6, 5, 3]\n",
    "\n",
    "x.sort()  # Sorts the list in ascending order\n",
    "print(x)\n",
    "\n",
    "x.sort(reverse=True)  # Sorts the list in descending order\n",
    "print(x)\n",
    "\n",
    "x.reverse()  # Reverses the order of the items in the list\n",
    "print(x)\n",
    "\n",
    "index = x.index(1)  # Returns the index of the first occurrence of the specified item in the list\n",
    "print(index)\n",
    "\n",
    "count = x.count(1)  # Returns the number of times the specified item appears in the list\n",
    "print(count)"
   ]
  },
  {
   "cell_type": "markdown",
   "id": "9db32c73-4a05-43c7-9d7b-bc67ca8fd77f",
   "metadata": {},
   "source": [
    "## 2. Tuple"
   ]
  },
  {
   "cell_type": "markdown",
   "id": "2bf62763-31ac-40f8-8536-10c2c41f35e9",
   "metadata": {},
   "source": [
    "### Creating a Tuple:"
   ]
  },
  {
   "cell_type": "code",
   "execution_count": 21,
   "id": "7560cf1d-87aa-4ef2-802d-01382c587af3",
   "metadata": {},
   "outputs": [
    {
     "name": "stdout",
     "output_type": "stream",
     "text": [
      "(1, 2, 3)\n"
     ]
    }
   ],
   "source": [
    "my_tuple = (1, 2, 3)\n",
    "print(my_tuple)"
   ]
  },
  {
   "cell_type": "markdown",
   "id": "a8f357c4-b524-4b17-8a63-b3954bd504a9",
   "metadata": {},
   "source": [
    "### Accessing Tuple Elements"
   ]
  },
  {
   "cell_type": "code",
   "execution_count": 22,
   "id": "ff6c4e35-a6a1-4507-bfc1-377f2e6c5b59",
   "metadata": {},
   "outputs": [
    {
     "name": "stdout",
     "output_type": "stream",
     "text": [
      "1\n"
     ]
    }
   ],
   "source": [
    "my_tuple = (1, 2, 3)\n",
    "print(my_tuple[0])"
   ]
  },
  {
   "cell_type": "markdown",
   "id": "fef4aa9b-811a-4861-8019-d59afe8f5336",
   "metadata": {},
   "source": [
    "### Slicing Tuples"
   ]
  },
  {
   "cell_type": "code",
   "execution_count": 23,
   "id": "e5dd0e82-6940-423f-905e-de7efb2d4ad5",
   "metadata": {},
   "outputs": [
    {
     "name": "stdout",
     "output_type": "stream",
     "text": [
      "(2, 3)\n"
     ]
    }
   ],
   "source": [
    "my_tuple = (1, 2, 3, 4, 5)\n",
    "print(my_tuple[1:3])"
   ]
  },
  {
   "cell_type": "markdown",
   "id": "ace3accd-9e41-44f8-9941-705ec41575ae",
   "metadata": {},
   "source": [
    "### Tuples are immutable"
   ]
  },
  {
   "cell_type": "code",
   "execution_count": 24,
   "id": "7ecb1b84-7969-4eec-8358-fcc52858ddfa",
   "metadata": {},
   "outputs": [
    {
     "ename": "TypeError",
     "evalue": "'tuple' object does not support item assignment",
     "output_type": "error",
     "traceback": [
      "\u001b[1;31m---------------------------------------------------------------------------\u001b[0m",
      "\u001b[1;31mTypeError\u001b[0m                                 Traceback (most recent call last)",
      "Cell \u001b[1;32mIn[24], line 2\u001b[0m\n\u001b[0;32m      1\u001b[0m my_tuple \u001b[38;5;241m=\u001b[39m (\u001b[38;5;241m1\u001b[39m, \u001b[38;5;241m2\u001b[39m, \u001b[38;5;241m3\u001b[39m)\n\u001b[1;32m----> 2\u001b[0m \u001b[43mmy_tuple\u001b[49m\u001b[43m[\u001b[49m\u001b[38;5;241;43m0\u001b[39;49m\u001b[43m]\u001b[49m \u001b[38;5;241m=\u001b[39m \u001b[38;5;241m4\u001b[39m\n",
      "\u001b[1;31mTypeError\u001b[0m: 'tuple' object does not support item assignment"
     ]
    }
   ],
   "source": [
    "my_tuple = (1, 2, 3)\n",
    "my_tuple[0] = 4"
   ]
  },
  {
   "cell_type": "markdown",
   "id": "e8cb1591-de78-4483-b460-788e4fdfc087",
   "metadata": {},
   "source": [
    "### Tuple Methods"
   ]
  },
  {
   "cell_type": "code",
   "execution_count": 25,
   "id": "848678c5-ae84-4e7a-9c36-853956cb744f",
   "metadata": {},
   "outputs": [
    {
     "name": "stdout",
     "output_type": "stream",
     "text": [
      "3\n",
      "2\n"
     ]
    }
   ],
   "source": [
    "my_tuple = (1, 2, 3, 2, 4, 2)\n",
    "\n",
    "print(my_tuple.count(2))  # Returns the number of occurrences of a specified element in a tuple\n",
    "print(my_tuple.index(3))  # Returns the index of the first occurrence of a specified element in a tuple"
   ]
  },
  {
   "cell_type": "markdown",
   "id": "92ca1383-8430-47de-afe7-f335f011bc54",
   "metadata": {},
   "source": [
    "# Python Set Type"
   ]
  },
  {
   "cell_type": "markdown",
   "id": "a7a1b2a9-2710-478f-ae71-358451318228",
   "metadata": {},
   "source": [
    "## Creating a Set"
   ]
  },
  {
   "cell_type": "code",
   "execution_count": 26,
   "id": "730a4286-5639-45c5-9752-2eb4ece6a474",
   "metadata": {},
   "outputs": [],
   "source": [
    "# Creating a set with curly braces\n",
    "my_set = {1, 2, 3, 4}\n",
    "\n",
    "# Creating a set with the set() constructor\n",
    "my_set = set([1, 2, 3, 4])"
   ]
  },
  {
   "cell_type": "markdown",
   "id": "78c1228a-9d8e-4a8b-a277-774383f1cad0",
   "metadata": {},
   "source": [
    "## Set Operations"
   ]
  },
  {
   "cell_type": "code",
   "execution_count": 27,
   "id": "d65ae43a-5bc7-4123-b81d-93f8174c049d",
   "metadata": {},
   "outputs": [],
   "source": [
    "set1 = {1, 2, 3, 4}\n",
    "set2 = {3, 4, 5, 6}"
   ]
  },
  {
   "cell_type": "code",
   "execution_count": 28,
   "id": "a30f2c4d-8ab9-4933-ad15-5611c8a85d60",
   "metadata": {},
   "outputs": [
    {
     "name": "stdout",
     "output_type": "stream",
     "text": [
      "{1, 2, 3, 4, 5, 6}\n"
     ]
    }
   ],
   "source": [
    "set3 = set1.union(set2)  # Union of two sets\n",
    "print(set3)"
   ]
  },
  {
   "cell_type": "code",
   "execution_count": 29,
   "id": "c4f64868-1a02-4d52-9173-94c8dd221530",
   "metadata": {},
   "outputs": [
    {
     "name": "stdout",
     "output_type": "stream",
     "text": [
      "{3, 4}\n"
     ]
    }
   ],
   "source": [
    "set4 = set1.intersection(set2)  # Intersection of two sets\n",
    "print(set4)"
   ]
  },
  {
   "cell_type": "code",
   "execution_count": 30,
   "id": "839428d5-9eda-428d-9b44-77e920c25e3e",
   "metadata": {},
   "outputs": [
    {
     "name": "stdout",
     "output_type": "stream",
     "text": [
      "{1, 2}\n"
     ]
    }
   ],
   "source": [
    "set5 = set1.difference(set2)  # Difference of two sets\n",
    "print(set5)"
   ]
  },
  {
   "cell_type": "code",
   "execution_count": 31,
   "id": "09614835-3189-464b-bd93-0018213d8905",
   "metadata": {},
   "outputs": [
    {
     "name": "stdout",
     "output_type": "stream",
     "text": [
      "{1, 2, 5, 6}\n"
     ]
    }
   ],
   "source": [
    "set6 = set1.symmetric_difference(set2)  # Symmetric difference of two sets\n",
    "print(set6)"
   ]
  },
  {
   "cell_type": "markdown",
   "id": "c2e00ad0-7a2f-4909-999a-9288860ea29a",
   "metadata": {},
   "source": [
    "## Modifying Set"
   ]
  },
  {
   "cell_type": "code",
   "execution_count": 32,
   "id": "2f9b041f-e2b0-448b-80c9-18213c83fa1a",
   "metadata": {},
   "outputs": [],
   "source": [
    "my_set = {1, 2, 3, 4}"
   ]
  },
  {
   "cell_type": "code",
   "execution_count": 33,
   "id": "42196a4f-78ad-49cc-98ce-b0f2ffd29d56",
   "metadata": {},
   "outputs": [
    {
     "name": "stdout",
     "output_type": "stream",
     "text": [
      "{1, 2, 3, 4, 5}\n"
     ]
    }
   ],
   "source": [
    "my_set.add(5)\n",
    "print(my_set)"
   ]
  },
  {
   "cell_type": "code",
   "execution_count": 34,
   "id": "053f91bb-ca0a-4dc5-892a-12123b663487",
   "metadata": {},
   "outputs": [
    {
     "name": "stdout",
     "output_type": "stream",
     "text": [
      "{1, 2, 4, 5}\n"
     ]
    }
   ],
   "source": [
    "my_set.remove(3)  # If the element does not exist, it will raise a KeyError\n",
    "print(my_set)"
   ]
  },
  {
   "cell_type": "code",
   "execution_count": 35,
   "id": "640db053-2741-494e-bd7d-2b4bedc4f1de",
   "metadata": {},
   "outputs": [
    {
     "name": "stdout",
     "output_type": "stream",
     "text": [
      "{1, 2, 4}\n"
     ]
    }
   ],
   "source": [
    "my_set.discard(5)  # Removes the specified element from a set\n",
    "print(my_set)     # If the element does not exist, it will not raise an error"
   ]
  },
  {
   "cell_type": "code",
   "execution_count": 36,
   "id": "81a0f4bd-c834-4d7d-98c4-be5c300599aa",
   "metadata": {},
   "outputs": [
    {
     "name": "stdout",
     "output_type": "stream",
     "text": [
      "1\n"
     ]
    }
   ],
   "source": [
    "x = my_set.pop()  # Removes and returns an arbitrary element from a set\n",
    "print(x)          # If the set is empty, it will raise a KeyError"
   ]
  },
  {
   "cell_type": "code",
   "execution_count": 37,
   "id": "7be2cc15-8dd1-4693-afca-2884708be8e2",
   "metadata": {},
   "outputs": [
    {
     "name": "stdout",
     "output_type": "stream",
     "text": [
      "set()\n"
     ]
    }
   ],
   "source": [
    "my_set.clear()    # Removes all elements from a set\n",
    "print(my_set)"
   ]
  },
  {
   "cell_type": "markdown",
   "id": "5f1dfbfa-dfbe-40ce-9fbf-277f9061c076",
   "metadata": {},
   "source": [
    "# Mapping Type"
   ]
  },
  {
   "cell_type": "markdown",
   "id": "beb1c3db-b28d-4e25-8a4a-1fdeab287fa4",
   "metadata": {},
   "source": [
    "## Creating a Dictionary"
   ]
  },
  {
   "cell_type": "code",
   "execution_count": 38,
   "id": "131ee5d6-e24d-41f3-86d6-0b5377b6ef4b",
   "metadata": {},
   "outputs": [
    {
     "name": "stdout",
     "output_type": "stream",
     "text": [
      "{'name': 'John', 'age': 30, 'city': 'New York'}\n",
      "{'name': 'John', 'age': 30, 'city': 'New York'}\n"
     ]
    }
   ],
   "source": [
    "person = {\"name\": \"John\", \"age\": 30, \"city\": \"New York\"}\n",
    "print(person)  # {\"name\": \"John\", \"age\": 30, \"city\": \"New York\"}\n",
    "\n",
    "person = dict(name=\"John\", age=30, city=\"New York\")\n",
    "print(person)  # {\"name\": \"John\", \"age\": 30, \"city\": \"New York\"}"
   ]
  },
  {
   "cell_type": "markdown",
   "id": "fbda1e97-df66-4a77-8d64-db36ef54491a",
   "metadata": {},
   "source": [
    "## Accessing Elements"
   ]
  },
  {
   "cell_type": "code",
   "execution_count": 39,
   "id": "a3df2f65-f204-4799-b026-c3f6d3a4c108",
   "metadata": {},
   "outputs": [
    {
     "name": "stdout",
     "output_type": "stream",
     "text": [
      "John\n",
      "30\n",
      "New York\n"
     ]
    }
   ],
   "source": [
    "person = {\"name\": \"John\", \"age\": 30, \"city\": \"New York\"}\n",
    "print(person[\"name\"])\n",
    "print(person[\"age\"])\n",
    "print(person[\"city\"])"
   ]
  },
  {
   "cell_type": "code",
   "execution_count": 40,
   "id": "b22788a7-a326-48c0-b695-bef7cefe3512",
   "metadata": {},
   "outputs": [
    {
     "ename": "KeyError",
     "evalue": "'gender'",
     "output_type": "error",
     "traceback": [
      "\u001b[1;31m---------------------------------------------------------------------------\u001b[0m",
      "\u001b[1;31mKeyError\u001b[0m                                  Traceback (most recent call last)",
      "Cell \u001b[1;32mIn[40], line 1\u001b[0m\n\u001b[1;32m----> 1\u001b[0m \u001b[38;5;28mprint\u001b[39m(\u001b[43mperson\u001b[49m\u001b[43m[\u001b[49m\u001b[38;5;124;43m\"\u001b[39;49m\u001b[38;5;124;43mgender\u001b[39;49m\u001b[38;5;124;43m\"\u001b[39;49m\u001b[43m]\u001b[49m)  \u001b[38;5;66;03m# KeyError: 'gender'\u001b[39;00m\n",
      "\u001b[1;31mKeyError\u001b[0m: 'gender'"
     ]
    }
   ],
   "source": [
    "print(person[\"gender\"])  # KeyError: 'gender'"
   ]
  },
  {
   "cell_type": "code",
   "execution_count": 41,
   "id": "4d713e88-4e81-4f92-afe1-72b614790d28",
   "metadata": {},
   "outputs": [
    {
     "name": "stdout",
     "output_type": "stream",
     "text": [
      "male\n",
      "John\n"
     ]
    }
   ],
   "source": [
    "print(person.get(\"gender\", \"male\"))  # Specifying a default value \"male\"\n",
    "print(person.get(\"name\", \"male\"))"
   ]
  },
  {
   "cell_type": "markdown",
   "id": "7ba697bb-861e-4254-8571-7e2695fec3d7",
   "metadata": {},
   "source": [
    "## Modifying Elements"
   ]
  },
  {
   "cell_type": "code",
   "execution_count": 42,
   "id": "95490e5f-4cdc-42fc-8fb6-a65f1d952886",
   "metadata": {},
   "outputs": [
    {
     "name": "stdout",
     "output_type": "stream",
     "text": [
      "{'name': 'John', 'age': 35, 'city': 'New York'}\n",
      "{'name': 'John', 'age': 35, 'city': 'New York', 'gender': 'male'}\n",
      "{'name': 'John', 'age': 35, 'gender': 'male'}\n"
     ]
    }
   ],
   "source": [
    "person = {\"name\": \"John\", \"age\": 30, \"city\": \"New York\"}\n",
    "person[\"age\"] = 35\n",
    "print(person)\n",
    "\n",
    "person[\"gender\"] = \"male\"  # Adding Element \"gender\"\n",
    "print(person)\n",
    "\n",
    "del person[\"city\"]  # Deleting Element \"city\"\n",
    "print(person)"
   ]
  },
  {
   "cell_type": "markdown",
   "id": "8f077ea7-a780-4408-91bc-4815575ad0f1",
   "metadata": {},
   "source": [
    "## Dictionary Methods"
   ]
  },
  {
   "cell_type": "code",
   "execution_count": 43,
   "id": "71e5dcaa-aa80-4cf2-b8de-c39eca3eec77",
   "metadata": {},
   "outputs": [
    {
     "name": "stdout",
     "output_type": "stream",
     "text": [
      "dict_keys(['name', 'age', 'city'])\n",
      "dict_values(['John', 30, 'New York'])\n",
      "dict_items([('name', 'John'), ('age', 30), ('city', 'New York')])\n",
      "30\n",
      "{'name': 'John', 'city': 'New York'}\n",
      "New York\n"
     ]
    }
   ],
   "source": [
    "person = {\"name\": \"John\", \"age\": 30, \"city\": \"New York\"}\n",
    "\n",
    "print(person.keys())  # Returns a view object that contains keys of the dictionary\n",
    "print(person.values())  # Returns a view object that contains values of the dictionary\n",
    "print(person.items())  # Returns a view object that contains key-value pairs of the dictionary as tuples\n",
    "\n",
    "age = person.pop('age')  # Removes the key-value pair with the given key and returns the value\n",
    "print(age)               # If the key is not found, a KeyError exception is raised.\n",
    "print(person)\n",
    "\n",
    "city = person.pop(\"city\", \"NYC\")  # Providing a default value avoids the KeyError\n",
    "print(city)"
   ]
  },
  {
   "cell_type": "code",
   "execution_count": 44,
   "id": "0cb16f99-8b04-4c7f-b244-b14c30e355d5",
   "metadata": {},
   "outputs": [
    {
     "name": "stdout",
     "output_type": "stream",
     "text": [
      "{'age': '30', 'city': 'New York', 'name': 'John'}\n",
      "{'age': '30', 'name': 'John', 'city': 'New York'}\n"
     ]
    }
   ],
   "source": [
    "person = {\"name\": \"John\", \"age\": \"30\", \"city\": \"New York\"}\n",
    "\n",
    "key_sorted = dict(sorted(person.items(), key=lambda item: item[0])) # Sort by Key\n",
    "print(key_sorted)\n",
    "\n",
    "value_sorted = dict(sorted(person.items(), key=lambda item: item[1])) # Sort by Value\n",
    "print(value_sorted)"
   ]
  },
  {
   "cell_type": "markdown",
   "id": "cb6dcce8-7e12-4de8-9339-93b1c47cb4dc",
   "metadata": {},
   "source": [
    "# Python Boolean Type"
   ]
  },
  {
   "cell_type": "code",
   "execution_count": 45,
   "id": "268a4b9f-5420-4028-bf42-fda2b9819388",
   "metadata": {},
   "outputs": [
    {
     "name": "stdout",
     "output_type": "stream",
     "text": [
      "False\n",
      "True\n"
     ]
    }
   ],
   "source": [
    "a = 5\n",
    "b = 10\n",
    "c = (a > b)\n",
    "d = (a < b)\n",
    "\n",
    "print(c)\n",
    "print(d)"
   ]
  },
  {
   "cell_type": "code",
   "execution_count": 46,
   "id": "6991e855-3151-41db-b2a5-2448f9d873b4",
   "metadata": {},
   "outputs": [
    {
     "name": "stdout",
     "output_type": "stream",
     "text": [
      "False\n",
      "True\n",
      "False\n"
     ]
    }
   ],
   "source": [
    "x = True\n",
    "y = False\n",
    "\n",
    "print(x and y)\n",
    "print(x or y)\n",
    "print(not x)"
   ]
  },
  {
   "cell_type": "code",
   "execution_count": 47,
   "id": "e2311b89-2678-4f0c-a6dc-74149d99ee76",
   "metadata": {},
   "outputs": [],
   "source": [
    "x = 10\n",
    "y = 0\n",
    "s = \"Hello\"\n",
    "t = \"\""
   ]
  },
  {
   "cell_type": "code",
   "execution_count": 48,
   "id": "6f3cc6d8-b7cc-44d1-b4a5-d28ee7c54326",
   "metadata": {},
   "outputs": [
    {
     "name": "stdout",
     "output_type": "stream",
     "text": [
      "True\n",
      "False\n",
      "True\n",
      "False\n"
     ]
    }
   ],
   "source": [
    "print(bool(x))         # True\n",
    "print(bool(y))         # False\n",
    "print(bool(s))         # True\n",
    "print(bool(t))         # False"
   ]
  },
  {
   "cell_type": "code",
   "execution_count": 49,
   "id": "66d4a598-be1e-4c69-b378-83ab454c4b9f",
   "metadata": {},
   "outputs": [],
   "source": [
    "lst = [1, 2, 3]\n",
    "empty_lst = []\n",
    "dct = {\"a\": 1, \"b\": 2}\n",
    "empty_dct = {}\n",
    "obj = object()\n",
    "none_obj = None"
   ]
  },
  {
   "cell_type": "code",
   "execution_count": 50,
   "id": "368a3cb0-8e77-4c50-bb31-adb13f6ada5c",
   "metadata": {},
   "outputs": [
    {
     "name": "stdout",
     "output_type": "stream",
     "text": [
      "True\n",
      "False\n"
     ]
    }
   ],
   "source": [
    "print(bool(lst))       # True\n",
    "print(bool(empty_lst)) # False"
   ]
  },
  {
   "cell_type": "code",
   "execution_count": 51,
   "id": "5476f20e-2253-445e-9422-e62849e8cafc",
   "metadata": {},
   "outputs": [
    {
     "name": "stdout",
     "output_type": "stream",
     "text": [
      "True\n",
      "False\n"
     ]
    }
   ],
   "source": [
    "print(bool(dct))       # True\n",
    "print(bool(empty_dct)) # False"
   ]
  },
  {
   "cell_type": "code",
   "execution_count": 52,
   "id": "6320313f-41ce-4d16-bb5d-2848eae7a80e",
   "metadata": {},
   "outputs": [
    {
     "name": "stdout",
     "output_type": "stream",
     "text": [
      "True\n",
      "False\n"
     ]
    }
   ],
   "source": [
    "print(bool(obj))       # True\n",
    "print(bool(none_obj))  # False"
   ]
  },
  {
   "cell_type": "markdown",
   "id": "8e031649-825f-44d3-9706-39a34541dbf4",
   "metadata": {},
   "source": [
    "# Python Binary Type"
   ]
  },
  {
   "cell_type": "code",
   "execution_count": 53,
   "id": "24d1973e-5266-41f9-ba49-0191c11515f1",
   "metadata": {},
   "outputs": [],
   "source": [
    "# Create a bytes object from a string of binary data\n",
    "b = b'\\x00\\x01\\x02\\x03\\x04\\x05'\n",
    "\n",
    "# Create a bytes object from a list of integers representing the binary data\n",
    "b = bytes([0, 1, 2, 3, 4, 5])\n",
    "\n",
    "# Create a bytearray object from a string of binary data\n",
    "ba = bytearray(b'\\x00\\x01\\x02\\x03\\x04\\x05')\n",
    "\n",
    "# Create a bytearray object from a list of integers representing the binary data\n",
    "ba = bytearray([0, 1, 2, 3, 4, 5])"
   ]
  },
  {
   "cell_type": "code",
   "execution_count": 54,
   "id": "c7e21c4e-b4b4-45b8-acb3-8c355478290e",
   "metadata": {},
   "outputs": [
    {
     "name": "stdout",
     "output_type": "stream",
     "text": [
      "0\n",
      "1\n",
      "2\n"
     ]
    }
   ],
   "source": [
    "b = b'\\x00\\x01\\x02\\x03\\x04\\x05'\n",
    "\n",
    "print(b[0])  # 0\n",
    "print(b[1])  # 1\n",
    "print(b[2])  # 2"
   ]
  },
  {
   "cell_type": "code",
   "execution_count": 55,
   "id": "31f66c2d-9532-41d4-8737-f5f886b6d94d",
   "metadata": {},
   "outputs": [
    {
     "name": "stdout",
     "output_type": "stream",
     "text": [
      "000102030405\n"
     ]
    }
   ],
   "source": [
    "b = b'\\x00\\x01\\x02\\x03\\x04\\x05'\n",
    "\n",
    "print(b.hex())  # \"000102030405\""
   ]
  },
  {
   "cell_type": "code",
   "execution_count": 56,
   "id": "211e47ed-a73e-4556-a0ff-e82017c010ea",
   "metadata": {},
   "outputs": [
    {
     "name": "stdout",
     "output_type": "stream",
     "text": [
      "b'Hello, World!'\n",
      "Hello, World!\n"
     ]
    }
   ],
   "source": [
    "s = \"Hello, World!\"\n",
    "\n",
    "b = s.encode()\n",
    "print(b)\n",
    "\n",
    "t = b.decode()\n",
    "print(t)"
   ]
  },
  {
   "cell_type": "code",
   "execution_count": 57,
   "id": "81b726f1-df56-499f-8ed4-3fd50f0fb685",
   "metadata": {},
   "outputs": [
    {
     "ename": "UnicodeEncodeError",
     "evalue": "'ascii' codec can't encode character '\\xe9' in position 1: ordinal not in range(128)",
     "output_type": "error",
     "traceback": [
      "\u001b[1;31m---------------------------------------------------------------------------\u001b[0m",
      "\u001b[1;31mUnicodeEncodeError\u001b[0m                        Traceback (most recent call last)",
      "Cell \u001b[1;32mIn[57], line 2\u001b[0m\n\u001b[0;32m      1\u001b[0m s \u001b[38;5;241m=\u001b[39m \u001b[38;5;124m\"\u001b[39m\u001b[38;5;124mrésumé\u001b[39m\u001b[38;5;124m\"\u001b[39m\n\u001b[1;32m----> 2\u001b[0m b \u001b[38;5;241m=\u001b[39m \u001b[43ms\u001b[49m\u001b[38;5;241;43m.\u001b[39;49m\u001b[43mencode\u001b[49m\u001b[43m(\u001b[49m\u001b[38;5;124;43m'\u001b[39;49m\u001b[38;5;124;43mascii\u001b[39;49m\u001b[38;5;124;43m'\u001b[39;49m\u001b[43m)\u001b[49m\n\u001b[0;32m      4\u001b[0m \u001b[38;5;28mprint\u001b[39m(b)  \u001b[38;5;66;03m# Raises a UnicodeEncodeError\u001b[39;00m\n",
      "\u001b[1;31mUnicodeEncodeError\u001b[0m: 'ascii' codec can't encode character '\\xe9' in position 1: ordinal not in range(128)"
     ]
    }
   ],
   "source": [
    "s = \"résumé\"\n",
    "b = s.encode('ascii')\n",
    "\n",
    "print(b)  # Raises a UnicodeEncodeError"
   ]
  },
  {
   "cell_type": "code",
   "execution_count": 58,
   "id": "b411fa39-4cd6-44b2-8288-0d535b026f27",
   "metadata": {},
   "outputs": [
    {
     "name": "stdout",
     "output_type": "stream",
     "text": [
      "b'r\\xc3\\xa9sum\\xc3\\xa9'\n"
     ]
    }
   ],
   "source": [
    "s = \"résumé\"\n",
    "b = s.encode('utf-8')\n",
    "\n",
    "print(b)  # b'r\\xc3\\xa9sum\\xc3\\xa9'"
   ]
  },
  {
   "cell_type": "code",
   "execution_count": null,
   "id": "8144e1f0-f898-4b22-a3fc-fc440785f077",
   "metadata": {},
   "outputs": [],
   "source": []
  }
 ],
 "metadata": {
  "kernelspec": {
   "display_name": "Python 3 (ipykernel)",
   "language": "python",
   "name": "python3"
  },
  "language_info": {
   "codemirror_mode": {
    "name": "ipython",
    "version": 3
   },
   "file_extension": ".py",
   "mimetype": "text/x-python",
   "name": "python",
   "nbconvert_exporter": "python",
   "pygments_lexer": "ipython3",
   "version": "3.12.1"
  }
 },
 "nbformat": 4,
 "nbformat_minor": 5
}
