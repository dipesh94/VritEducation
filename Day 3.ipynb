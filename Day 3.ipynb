{
 "cells": [
  {
   "cell_type": "markdown",
   "id": "6d3bf712-65e1-4435-8985-f8974c82db1f",
   "metadata": {},
   "source": [
    "# Python Conditional Statements"
   ]
  },
  {
   "cell_type": "code",
   "execution_count": 1,
   "id": "ca2afd2f-a07c-4bc4-9169-cb0b43aa9b47",
   "metadata": {},
   "outputs": [
    {
     "name": "stdout",
     "output_type": "stream",
     "text": [
      "Given Number is -10\n"
     ]
    }
   ],
   "source": [
    "x = -10\n",
    "\n",
    "if x > 0:\n",
    "    print(\"x is positive\")\n",
    "\n",
    "print(f\"Given Number is {x}\")"
   ]
  },
  {
   "cell_type": "code",
   "execution_count": 2,
   "id": "531f3a2a-e08e-4963-9ae7-d1b364f4c098",
   "metadata": {},
   "outputs": [
    {
     "name": "stdout",
     "output_type": "stream",
     "text": [
      "Both x and y are positive\n"
     ]
    }
   ],
   "source": [
    "x = 10\n",
    "y = 5\n",
    "\n",
    "if x > 0 and y > 0:\n",
    "    print(\"Both x and y are positive\")"
   ]
  },
  {
   "cell_type": "code",
   "execution_count": 3,
   "id": "af750f8b-6049-4e60-9b93-0ccda2640c28",
   "metadata": {},
   "outputs": [
    {
     "name": "stdout",
     "output_type": "stream",
     "text": [
      "number is neg\n"
     ]
    }
   ],
   "source": [
    "x = -10\n",
    "\n",
    "if x > 0:\n",
    "    print(\"number is pos\")\n",
    "    \n",
    "else:\n",
    "    print(\"number is neg\")"
   ]
  },
  {
   "cell_type": "code",
   "execution_count": 4,
   "id": "508e1c7d-72e2-49b8-b95e-8dac66d243e1",
   "metadata": {},
   "outputs": [
    {
     "name": "stdout",
     "output_type": "stream",
     "text": [
      "x is positive\n"
     ]
    }
   ],
   "source": [
    "x = 10\n",
    "\n",
    "if x < 0:\n",
    "    print(\"x is negative\")\n",
    "    \n",
    "elif x == 0:\n",
    "    print(\"x is zero\")\n",
    "    \n",
    "else:\n",
    "    print(\"x is positive\")"
   ]
  },
  {
   "cell_type": "markdown",
   "id": "94e12f63-50c8-46cc-9907-691e7abbe269",
   "metadata": {},
   "source": [
    "## WAP to check if number is positive, negative or zero."
   ]
  },
  {
   "cell_type": "code",
   "execution_count": 2,
   "id": "c88733bb-0680-4d42-a509-1449ae24a124",
   "metadata": {},
   "outputs": [
    {
     "name": "stdin",
     "output_type": "stream",
     "text": [
      "Enter a number 200\n"
     ]
    },
    {
     "name": "stdout",
     "output_type": "stream",
     "text": [
      "Given number 200 is positive\n",
      "Higher positive number\n"
     ]
    }
   ],
   "source": [
    "x = int(input(\"Enter a number\"))\n",
    "\n",
    "if x > 0:\n",
    "    print(f\"Given number {x} is positive\")\n",
    "    if x >= 100:\n",
    "        print(\"Higher positive number\")\n",
    "    else:\n",
    "        print(\"Lower positive number\")\n",
    "        \n",
    "elif x < 0:\n",
    "    print(f\"Given number {x} is negative\")\n",
    "else:\n",
    "    print(f\"Given number {x} is zero\")"
   ]
  },
  {
   "cell_type": "markdown",
   "id": "2884b75b-cd34-4e10-94b9-8a21bf8f5b18",
   "metadata": {},
   "source": [
    "## WAP to grade a number (100-80) Grade A, (80-60) Grade B , (60-40) Grade C and less than 40 Grade D."
   ]
  },
  {
   "cell_type": "code",
   "execution_count": 3,
   "id": "eb55ac6e-8589-4857-843a-b94a340b096c",
   "metadata": {},
   "outputs": [
    {
     "name": "stdin",
     "output_type": "stream",
     "text": [
      "Enter your marks. 50\n"
     ]
    },
    {
     "name": "stdout",
     "output_type": "stream",
     "text": [
      "Grade C\n"
     ]
    }
   ],
   "source": [
    "marks = int(input(\"Enter your marks.\"))\n",
    "\n",
    "if marks <= 100 and marks > 80:    \n",
    "    print(\"Grade A\")\n",
    "    \n",
    "elif marks <= 80 and marks > 60:    \n",
    "    print(\"Grade B\")\n",
    "    \n",
    "elif marks <= 60 and marks> 40:    \n",
    "    print(\"Grade C\") \n",
    "\n",
    "else:\n",
    "    print(\"Grade D\")"
   ]
  },
  {
   "cell_type": "markdown",
   "id": "91e24292-8646-432d-b134-c776f5e8bee1",
   "metadata": {},
   "source": [
    "# Python Loop Statements"
   ]
  },
  {
   "cell_type": "markdown",
   "id": "c0876c06-adf1-497a-a45c-8473a8b7a5d5",
   "metadata": {},
   "source": [
    "## 1. Python For Loop"
   ]
  },
  {
   "cell_type": "code",
   "execution_count": 4,
   "id": "fbc3fa4a-1ba0-4645-8b4e-c340e64744a6",
   "metadata": {},
   "outputs": [
    {
     "name": "stdout",
     "output_type": "stream",
     "text": [
      "apple\n",
      "banana\n",
      "cherry\n",
      "pineapple\n"
     ]
    }
   ],
   "source": [
    "fruits = ['apple', 'banana', 'cherry' , 'pineapple']\n",
    "\n",
    "for fruit in fruits:\n",
    "    print(fruit)"
   ]
  },
  {
   "cell_type": "code",
   "execution_count": 5,
   "id": "f43f79df-e533-4ef9-bbfa-9049ee2678ba",
   "metadata": {},
   "outputs": [
    {
     "data": {
      "text/plain": [
       "[0, 1, 2, 3, 4]"
      ]
     },
     "execution_count": 5,
     "metadata": {},
     "output_type": "execute_result"
    }
   ],
   "source": [
    "list(range(5))"
   ]
  },
  {
   "cell_type": "code",
   "execution_count": 6,
   "id": "fa6f9c07-f634-4e1e-847e-51d901ba1f8d",
   "metadata": {},
   "outputs": [
    {
     "name": "stdout",
     "output_type": "stream",
     "text": [
      "0\n",
      "1\n",
      "2\n",
      "3\n",
      "4\n"
     ]
    }
   ],
   "source": [
    "for i in range(5):\n",
    "    print(i)"
   ]
  },
  {
   "cell_type": "code",
   "execution_count": 7,
   "id": "73821bbf-4121-452b-84e3-8c420048f093",
   "metadata": {},
   "outputs": [
    {
     "name": "stdout",
     "output_type": "stream",
     "text": [
      "red apple\n",
      "red banana\n",
      "red cherry\n",
      "big apple\n",
      "big banana\n",
      "big cherry\n",
      "tasty apple\n",
      "tasty banana\n",
      "tasty cherry\n"
     ]
    }
   ],
   "source": [
    "adj = ['red', 'big', 'tasty']\n",
    "fruits = ['apple', 'banana', 'cherry']\n",
    "\n",
    "for a in adj:\n",
    "    for f in fruits:\n",
    "        print(a, f)"
   ]
  },
  {
   "cell_type": "markdown",
   "id": "11b1241e-8f23-4a9b-88dd-bec1ee8bc763",
   "metadata": {},
   "source": [
    "## Write a Program to Calculate the Sum of the First N Natural Numbers:"
   ]
  },
  {
   "cell_type": "code",
   "execution_count": 8,
   "id": "3b69a592-9618-44ed-a9d6-15784b5f7de2",
   "metadata": {},
   "outputs": [
    {
     "name": "stdin",
     "output_type": "stream",
     "text": [
      "Enter a number 50\n"
     ]
    },
    {
     "name": "stdout",
     "output_type": "stream",
     "text": [
      "Sum of 50 numbers is 1275\n"
     ]
    }
   ],
   "source": [
    "num = int(input(\"Enter a number\"))\n",
    "# 100\n",
    "\n",
    "sum = 0\n",
    "for value in range(num + 1):\n",
    "    sum = sum + value\n",
    "\n",
    "print(f\"Sum of {num} numbers is {sum}\")"
   ]
  },
  {
   "cell_type": "markdown",
   "id": "3a48e229-9e73-4a32-9297-510bd463d91d",
   "metadata": {},
   "source": [
    "## Write a Program to Display the Multiplication Table of a Given Number:"
   ]
  },
  {
   "cell_type": "code",
   "execution_count": 9,
   "id": "7364b709-a9f9-49bb-a7b1-2b6dc3495ef4",
   "metadata": {},
   "outputs": [
    {
     "name": "stdin",
     "output_type": "stream",
     "text": [
      "enter the number: 13\n"
     ]
    },
    {
     "name": "stdout",
     "output_type": "stream",
     "text": [
      "13 x 1 = 13\n",
      "13 x 2 = 26\n",
      "13 x 3 = 39\n",
      "13 x 4 = 52\n",
      "13 x 5 = 65\n",
      "13 x 6 = 78\n",
      "13 x 7 = 91\n",
      "13 x 8 = 104\n",
      "13 x 9 = 117\n",
      "13 x 10 = 130\n"
     ]
    }
   ],
   "source": [
    "number = int(input(\"enter the number:\"))\n",
    "\n",
    "for i in range (1,11):\n",
    "    product = number*i\n",
    "    print(f'{number} x {i} = {product}')"
   ]
  },
  {
   "cell_type": "code",
   "execution_count": 10,
   "id": "3e7f53e3-1a1e-4548-9975-7484180928f3",
   "metadata": {},
   "outputs": [
    {
     "name": "stdout",
     "output_type": "stream",
     "text": [
      "#\n",
      "##\n",
      "###\n",
      "####\n",
      "#####\n",
      "######\n",
      "#######\n"
     ]
    }
   ],
   "source": [
    "# *\n",
    "# **\n",
    "# ***\n",
    "# ****\n",
    "a = \"#\"\n",
    "\n",
    "for i in range(1,8):\n",
    "    res = a * i\n",
    "    print(res)"
   ]
  },
  {
   "cell_type": "markdown",
   "id": "5ee7b17e-d934-4ea9-855c-6881e05ad826",
   "metadata": {},
   "source": [
    "## 2. Python While Loop"
   ]
  },
  {
   "cell_type": "code",
   "execution_count": 2,
   "id": "37596059-6c24-4591-ac4d-26759c2cc39c",
   "metadata": {},
   "outputs": [
    {
     "name": "stdout",
     "output_type": "stream",
     "text": [
      "0\n",
      "1\n",
      "2\n",
      "3\n",
      "4\n"
     ]
    }
   ],
   "source": [
    "i = 0\n",
    "\n",
    "while i < 5:\n",
    "    print(i)\n",
    "    i += 1"
   ]
  },
  {
   "cell_type": "code",
   "execution_count": 3,
   "id": "a4f0ba9b-d9f2-4394-9d21-dea34949ba41",
   "metadata": {},
   "outputs": [],
   "source": [
    "# i = 0\n",
    "\n",
    "# while i < 5:\n",
    "#   print(i)\n",
    "# infinite loop"
   ]
  },
  {
   "cell_type": "code",
   "execution_count": 4,
   "id": "eec693e3-f2f0-4423-9d5a-b0efc2a093af",
   "metadata": {},
   "outputs": [
    {
     "name": "stdout",
     "output_type": "stream",
     "text": [
      "0\n",
      "1\n",
      "2\n",
      "3\n",
      "4\n",
      "5\n",
      "6\n",
      "7\n",
      "8\n",
      "9\n"
     ]
    }
   ],
   "source": [
    "count = 0\n",
    "\n",
    "while count < 10:\n",
    "    print(count)\n",
    "    count += 1\n",
    "    # count = count + 1"
   ]
  },
  {
   "cell_type": "code",
   "execution_count": 5,
   "id": "1d596b17-95fa-4ae4-9ae2-f242ee074c41",
   "metadata": {},
   "outputs": [
    {
     "name": "stdout",
     "output_type": "stream",
     "text": [
      "0\n",
      "1\n",
      "2\n",
      "3\n",
      "4\n"
     ]
    }
   ],
   "source": [
    "count = 0\n",
    "\n",
    "while count < 10:\n",
    "    print(count)\n",
    "    count += 1\n",
    "    if count == 5:\n",
    "        break"
   ]
  },
  {
   "cell_type": "markdown",
   "id": "07b2d929-5491-4eeb-8605-37931aaaaa36",
   "metadata": {},
   "source": [
    "## Write a Program to Calculate the Sum of the First N Natural Numbers:"
   ]
  },
  {
   "cell_type": "code",
   "execution_count": 6,
   "id": "cf466f3f-88a8-4135-a200-1fa8a32abf06",
   "metadata": {},
   "outputs": [
    {
     "name": "stdin",
     "output_type": "stream",
     "text": [
      "Enter a number 100\n"
     ]
    },
    {
     "name": "stdout",
     "output_type": "stream",
     "text": [
      "Sum of 100 numbers is 5050\n"
     ]
    }
   ],
   "source": [
    "num = int(input(\"Enter a number\"))\n",
    "# 100\n",
    "\n",
    "sum = 0\n",
    "\n",
    "i = 1\n",
    "while i <= num:\n",
    "    sum = sum + i\n",
    "    i += 1\n",
    "    \n",
    "print(f\"Sum of {num} numbers is {sum}\")"
   ]
  },
  {
   "cell_type": "markdown",
   "id": "905da656-f436-4d1e-8964-e3b0325a8fa8",
   "metadata": {},
   "source": [
    "## Write a Program to Display the Multiplication Table of a Given Number:"
   ]
  },
  {
   "cell_type": "code",
   "execution_count": 7,
   "id": "bf4ec226-478f-43c3-944d-2ff0979b87c8",
   "metadata": {},
   "outputs": [
    {
     "name": "stdin",
     "output_type": "stream",
     "text": [
      "enter the number 13\n"
     ]
    },
    {
     "name": "stdout",
     "output_type": "stream",
     "text": [
      "13 x 1 = 13\n",
      "13 x 2 = 26\n",
      "13 x 3 = 39\n",
      "13 x 4 = 52\n",
      "13 x 5 = 65\n",
      "13 x 6 = 78\n",
      "13 x 7 = 91\n",
      "13 x 8 = 104\n",
      "13 x 9 = 117\n",
      "13 x 10 = 130\n",
      "finished\n"
     ]
    }
   ],
   "source": [
    "mul = int(input(\"enter the number\"))\n",
    "\n",
    "i = 1\n",
    "\n",
    "while i<= 10:  \n",
    "    \n",
    "    result = mul * i    \n",
    "    \n",
    "    print (f\"{mul} x {i} = {result}\") \n",
    "    \n",
    "    i = i + 1\n",
    "\n",
    "print(\"finished\")"
   ]
  },
  {
   "cell_type": "code",
   "execution_count": null,
   "id": "c174aaab-034d-4f73-b2d1-aa84872de702",
   "metadata": {},
   "outputs": [],
   "source": []
  }
 ],
 "metadata": {
  "kernelspec": {
   "display_name": "Python 3 (ipykernel)",
   "language": "python",
   "name": "python3"
  },
  "language_info": {
   "codemirror_mode": {
    "name": "ipython",
    "version": 3
   },
   "file_extension": ".py",
   "mimetype": "text/x-python",
   "name": "python",
   "nbconvert_exporter": "python",
   "pygments_lexer": "ipython3",
   "version": "3.12.1"
  }
 },
 "nbformat": 4,
 "nbformat_minor": 5
}
