{
 "cells": [
  {
   "cell_type": "markdown",
   "id": "b39b98a1-96bd-490a-9cd9-c30630cf9443",
   "metadata": {},
   "source": [
    "# Python Built-In Functions"
   ]
  },
  {
   "cell_type": "markdown",
   "id": "c605ab9f-d236-4182-9d60-991d1c305fbe",
   "metadata": {},
   "source": [
    "## print()"
   ]
  },
  {
   "cell_type": "code",
   "execution_count": 1,
   "id": "f019b400-09c1-4c09-ac57-8b7c7c3820d1",
   "metadata": {},
   "outputs": [],
   "source": [
    "x = 5\n",
    "y = x * 2"
   ]
  },
  {
   "cell_type": "code",
   "execution_count": 2,
   "id": "3372622a-2511-4b4f-b33b-049782d03774",
   "metadata": {},
   "outputs": [
    {
     "name": "stdout",
     "output_type": "stream",
     "text": [
      "The value of y is: 10\n"
     ]
    }
   ],
   "source": [
    "print(\"The value of y is:\", y)   # Printing a variable value"
   ]
  },
  {
   "cell_type": "code",
   "execution_count": 3,
   "id": "ec8d55a6-fcae-48cd-b086-63fe17973206",
   "metadata": {},
   "outputs": [
    {
     "name": "stdout",
     "output_type": "stream",
     "text": [
      "x is 5 and y is 10\n"
     ]
    }
   ],
   "source": [
    "print(\"x is\", x, \"and y is\", y)  # Printing multiple items using commas to separate them"
   ]
  },
  {
   "cell_type": "code",
   "execution_count": 4,
   "id": "a3cb786f-30d8-464f-a48c-b8e6d863f395",
   "metadata": {},
   "outputs": [
    {
     "name": "stdout",
     "output_type": "stream",
     "text": [
      "The value of x is 5 and the value of y is 10\n",
      "The value of x is 5 and the value of y is 10\n"
     ]
    }
   ],
   "source": [
    "print(\"The value of x is {} and the value of y is {}\".format(x, y)) # Using string formatting\n",
    "print(f\"The value of x is {x} and the value of y is {y}\")  # Using f-strings"
   ]
  },
  {
   "cell_type": "code",
   "execution_count": 6,
   "id": "d674a656-236d-4e24-9aaf-2109f1e9fd61",
   "metadata": {},
   "outputs": [
    {
     "name": "stdout",
     "output_type": "stream",
     "text": [
      "Hello-World\n"
     ]
    }
   ],
   "source": [
    "print(\"Hello\", \"World\", sep=\"-\")  # Using Seperator"
   ]
  },
  {
   "cell_type": "code",
   "execution_count": 7,
   "id": "06517d23-b9c2-4eeb-b491-4aaa54f91f73",
   "metadata": {},
   "outputs": [
    {
     "name": "stdout",
     "output_type": "stream",
     "text": [
      "Hello World."
     ]
    }
   ],
   "source": [
    "print(\"Hello World\", end=\".\") # Defining End of line"
   ]
  },
  {
   "cell_type": "markdown",
   "id": "2f7bb03b-20bf-4b00-af34-181b55d7f44b",
   "metadata": {},
   "source": [
    "## type()"
   ]
  },
  {
   "cell_type": "code",
   "execution_count": 8,
   "id": "531c11d2-eab9-47fb-9b21-c181c7894989",
   "metadata": {},
   "outputs": [
    {
     "name": "stdout",
     "output_type": "stream",
     "text": [
      "<class 'int'>\n",
      "<class 'float'>\n"
     ]
    }
   ],
   "source": [
    "print(type(5))                           \n",
    "print(type(3.14)) "
   ]
  },
  {
   "cell_type": "code",
   "execution_count": 9,
   "id": "0c685833-c146-43a9-a4f5-180321b27e93",
   "metadata": {},
   "outputs": [
    {
     "name": "stdout",
     "output_type": "stream",
     "text": [
      "<class 'str'>\n"
     ]
    }
   ],
   "source": [
    "print(type(\"Hello, World!\"))  "
   ]
  },
  {
   "cell_type": "code",
   "execution_count": 10,
   "id": "8271bfa3-fece-46a5-8425-7abac2a39ca7",
   "metadata": {},
   "outputs": [
    {
     "name": "stdout",
     "output_type": "stream",
     "text": [
      "<class 'bool'>\n"
     ]
    }
   ],
   "source": [
    "print(type(True))   "
   ]
  },
  {
   "cell_type": "code",
   "execution_count": 11,
   "id": "eae6219b-5d1f-4167-ad44-2e5a98986195",
   "metadata": {},
   "outputs": [
    {
     "name": "stdout",
     "output_type": "stream",
     "text": [
      "<class 'list'>\n",
      "<class 'dict'>\n"
     ]
    }
   ],
   "source": [
    "print(type([1, 2, 3]))                   \n",
    "print(type({\"name\": \"John\", \"age\": 30})) "
   ]
  },
  {
   "cell_type": "markdown",
   "id": "381cdd57-86e6-434a-841f-da132b84f398",
   "metadata": {},
   "source": [
    "## input()"
   ]
  },
  {
   "cell_type": "code",
   "execution_count": 12,
   "id": "8bc69214-b6b2-497f-9b27-f8c5b8ac94b6",
   "metadata": {},
   "outputs": [
    {
     "name": "stdin",
     "output_type": "stream",
     "text": [
      "What is your name?  Dipesh\n"
     ]
    },
    {
     "name": "stdout",
     "output_type": "stream",
     "text": [
      "Hello, Dipesh!\n"
     ]
    }
   ],
   "source": [
    "name = input(\"What is your name? \")\n",
    "print(\"Hello, \" + name + \"!\")"
   ]
  },
  {
   "cell_type": "code",
   "execution_count": 14,
   "id": "e4a870a0-0924-4e80-aad8-1013de738550",
   "metadata": {},
   "outputs": [
    {
     "name": "stdin",
     "output_type": "stream",
     "text": [
      "What is your age? 24\n"
     ]
    },
    {
     "name": "stdout",
     "output_type": "stream",
     "text": [
      "Dipesh you are 24 years old!\n"
     ]
    }
   ],
   "source": [
    "age = int(input(\"What is your age?\"))  # Converting input str to int type\n",
    "print(name, \"you are\", str(age), \"years old!\")"
   ]
  },
  {
   "cell_type": "markdown",
   "id": "e3fa0fdc-d605-4aa9-a9c6-e1451f664116",
   "metadata": {},
   "source": [
    "## len()"
   ]
  },
  {
   "cell_type": "code",
   "execution_count": 15,
   "id": "2476d72d-9d81-4e41-9cf1-9affa5c0dba9",
   "metadata": {},
   "outputs": [
    {
     "name": "stdout",
     "output_type": "stream",
     "text": [
      "13\n"
     ]
    }
   ],
   "source": [
    "my_string = \"Hello, world!\"  # Get the length of a string\n",
    "print(len(my_string)) "
   ]
  },
  {
   "cell_type": "code",
   "execution_count": 16,
   "id": "836efa10-a84d-4fa5-8bc4-f5c96659d310",
   "metadata": {},
   "outputs": [
    {
     "name": "stdout",
     "output_type": "stream",
     "text": [
      "5\n"
     ]
    }
   ],
   "source": [
    "my_list = [1, 2, 3, 4, 5]    # Get the length of a list\n",
    "print(len(my_list))"
   ]
  },
  {
   "cell_type": "code",
   "execution_count": 17,
   "id": "b4ed4db4-05a1-44ae-be24-f55deb6c2fff",
   "metadata": {},
   "outputs": [
    {
     "name": "stdout",
     "output_type": "stream",
     "text": [
      "5\n"
     ]
    }
   ],
   "source": [
    "my_tuple = (1, 2, 3, 4, 5)   # Get the length of a tuple\n",
    "print(len(my_tuple))"
   ]
  },
  {
   "cell_type": "code",
   "execution_count": 18,
   "id": "b389c124-89ba-47ad-9469-d33ac42a6681",
   "metadata": {},
   "outputs": [
    {
     "name": "stdout",
     "output_type": "stream",
     "text": [
      "2\n"
     ]
    }
   ],
   "source": [
    "my_dict = {\"apple\": 1, \"banana\": 2}  # Get the length of a dictionary\n",
    "print(len(my_dict)) "
   ]
  },
  {
   "cell_type": "markdown",
   "id": "3e8fccc3-a2f6-4a39-8667-6a0a56a48183",
   "metadata": {},
   "source": [
    "## open()"
   ]
  },
  {
   "cell_type": "code",
   "execution_count": null,
   "id": "6efe4564-5c66-4c9b-ab7b-2afd41f6a11f",
   "metadata": {},
   "outputs": [],
   "source": [
    "file = open(\"read.txt\", \"r\")  # Open a file for reading\n",
    "contents = file.read()        # Read the contents of the file\n",
    "print(contents)               # Print the contents of the file\n",
    "file.close()                  # Close the file"
   ]
  },
  {
   "cell_type": "code",
   "execution_count": null,
   "id": "54264b19-e037-4249-863f-f4ddb78be9be",
   "metadata": {},
   "outputs": [],
   "source": [
    "file = open(\"write.txt\", \"w\")\n",
    "file.write(\"This is a test for writing content into a file!\")\n",
    "file.close()"
   ]
  },
  {
   "cell_type": "markdown",
   "id": "aa18c919-cfc7-4a1e-a4dc-8ef7ec700d7a",
   "metadata": {},
   "source": [
    "## dir()"
   ]
  },
  {
   "cell_type": "code",
   "execution_count": 20,
   "id": "7b1f73c3-fa80-4bce-a407-6eac4e3918ff",
   "metadata": {},
   "outputs": [
    {
     "name": "stdout",
     "output_type": "stream",
     "text": [
      "['__add__', '__class__', '__contains__', '__delattr__', '__dir__', '__doc__', '__eq__', '__format__', '__ge__', '__getattribute__', '__getitem__', '__getnewargs__', '__getstate__', '__gt__', '__hash__', '__init__', '__init_subclass__', '__iter__', '__le__', '__len__', '__lt__', '__mod__', '__mul__', '__ne__', '__new__', '__reduce__', '__reduce_ex__', '__repr__', '__rmod__', '__rmul__', '__setattr__', '__sizeof__', '__str__', '__subclasshook__', 'capitalize', 'casefold', 'center', 'count', 'encode', 'endswith', 'expandtabs', 'find', 'format', 'format_map', 'index', 'isalnum', 'isalpha', 'isascii', 'isdecimal', 'isdigit', 'isidentifier', 'islower', 'isnumeric', 'isprintable', 'isspace', 'istitle', 'isupper', 'join', 'ljust', 'lower', 'lstrip', 'maketrans', 'partition', 'removeprefix', 'removesuffix', 'replace', 'rfind', 'rindex', 'rjust', 'rpartition', 'rsplit', 'rstrip', 'split', 'splitlines', 'startswith', 'strip', 'swapcase', 'title', 'translate', 'upper', 'zfill']\n"
     ]
    }
   ],
   "source": [
    "x = \"Hello\"\n",
    "print(dir(x))"
   ]
  },
  {
   "cell_type": "code",
   "execution_count": 21,
   "id": "c28ec46f-a429-486e-bf22-c888ecf1176b",
   "metadata": {},
   "outputs": [
    {
     "data": {
      "text/plain": [
       "'hello'"
      ]
     },
     "execution_count": 21,
     "metadata": {},
     "output_type": "execute_result"
    }
   ],
   "source": [
    "x.casefold()"
   ]
  },
  {
   "cell_type": "markdown",
   "id": "cbd106d3-c082-4c01-8620-98472a45ecfb",
   "metadata": {},
   "source": [
    "## enumerate()"
   ]
  },
  {
   "cell_type": "code",
   "execution_count": 22,
   "id": "ec01e2c0-a2c9-437a-9cdd-bbb4a9cbe746",
   "metadata": {},
   "outputs": [
    {
     "name": "stdout",
     "output_type": "stream",
     "text": [
      "0 Alice\n",
      "1 Bob\n",
      "2 Charlie\n"
     ]
    }
   ],
   "source": [
    "names = [\"Alice\", \"Bob\", \"Charlie\"]\n",
    "\n",
    "for i, name in enumerate(names):  # Iterate over the list using enumerate()\n",
    "    print(i, name)"
   ]
  },
  {
   "cell_type": "code",
   "execution_count": 23,
   "id": "ff3fdf6c-b4e0-4e2c-911f-0d191105b889",
   "metadata": {},
   "outputs": [
    {
     "data": {
      "text/plain": [
       "[(0, 'Alice'), (1, 'Bob'), (2, 'Charlie')]"
      ]
     },
     "execution_count": 23,
     "metadata": {},
     "output_type": "execute_result"
    }
   ],
   "source": [
    "list(enumerate(names))"
   ]
  },
  {
   "cell_type": "code",
   "execution_count": 24,
   "id": "4969d5d1-11ea-4f45-a631-908a145b8e4c",
   "metadata": {},
   "outputs": [
    {
     "name": "stdout",
     "output_type": "stream",
     "text": [
      "1 Alice\n",
      "2 Bob\n",
      "3 Charlie\n"
     ]
    }
   ],
   "source": [
    "# Iterate over the list starting at index 1\n",
    "for i, name in enumerate(names, 1):\n",
    "    print(i, name)"
   ]
  },
  {
   "cell_type": "markdown",
   "id": "af392f36-eaa7-47be-8920-5b9f27823181",
   "metadata": {},
   "source": [
    "## zip()"
   ]
  },
  {
   "cell_type": "code",
   "execution_count": 25,
   "id": "1a141599-1034-45eb-b608-01e624f0ec57",
   "metadata": {},
   "outputs": [],
   "source": [
    "list1 = [1, 2, 3]\n",
    "list2 = ['a', 'b']"
   ]
  },
  {
   "cell_type": "code",
   "execution_count": 26,
   "id": "3e2ba50a-991d-4b38-a38a-e1f662189e60",
   "metadata": {},
   "outputs": [
    {
     "name": "stdout",
     "output_type": "stream",
     "text": [
      "[(1, 'a'), (2, 'b')]\n"
     ]
    }
   ],
   "source": [
    "zipped_list = list(zip(list1, list2))\n",
    "print(zipped_list)"
   ]
  },
  {
   "cell_type": "code",
   "execution_count": 27,
   "id": "d706bef6-74e6-455d-88a5-c4360aac203f",
   "metadata": {},
   "outputs": [
    {
     "name": "stdout",
     "output_type": "stream",
     "text": [
      "1 a\n",
      "2 b\n"
     ]
    }
   ],
   "source": [
    "for l1, l2 in zip(list1, list2):\n",
    "    print(l1, l2, sep=\" \")"
   ]
  },
  {
   "cell_type": "markdown",
   "id": "53de7250-8d4d-42f6-aea8-acde2a052394",
   "metadata": {},
   "source": [
    "## map()"
   ]
  },
  {
   "cell_type": "code",
   "execution_count": 28,
   "id": "abcb1127-d17b-4696-8ebd-df128f91ac9d",
   "metadata": {},
   "outputs": [
    {
     "name": "stdout",
     "output_type": "stream",
     "text": [
      "[2, 4, 6, 8, 10]\n"
     ]
    }
   ],
   "source": [
    "my_list = [1, 2, 3, 4, 5]\n",
    "doubled_list = list(map(lambda x: x * 2, my_list))\n",
    "print(doubled_list)"
   ]
  },
  {
   "cell_type": "code",
   "execution_count": 29,
   "id": "78e69287-89d8-414f-b1f9-08d622b60e72",
   "metadata": {},
   "outputs": [
    {
     "name": "stdout",
     "output_type": "stream",
     "text": [
      "[1, 2, 3, 4, 5]\n"
     ]
    }
   ],
   "source": [
    "string_list = [\"1\", \"2\", \"3\", \"4\", \"5\"]\n",
    "int_list = list(map(int, string_list))\n",
    "print(int_list)"
   ]
  },
  {
   "cell_type": "markdown",
   "id": "a1665b15-562f-4639-a3bd-c8bc42ba3d36",
   "metadata": {},
   "source": [
    "## reduce()"
   ]
  },
  {
   "cell_type": "code",
   "execution_count": 30,
   "id": "8fa00e8a-ad36-4058-929b-3c7cd44a4114",
   "metadata": {},
   "outputs": [
    {
     "name": "stdout",
     "output_type": "stream",
     "text": [
      "120\n"
     ]
    }
   ],
   "source": [
    "from functools import reduce\n",
    "\n",
    "my_list = [1, 2, 3, 4, 5]\n",
    "product = reduce(lambda x, y: x * y, my_list)\n",
    "print(product)"
   ]
  },
  {
   "cell_type": "code",
   "execution_count": 31,
   "id": "545bee53-fcd1-4cf1-875b-f75d4beeae9a",
   "metadata": {},
   "outputs": [
    {
     "name": "stdout",
     "output_type": "stream",
     "text": [
      "1200\n"
     ]
    }
   ],
   "source": [
    "from functools import reduce\n",
    "\n",
    "my_list = [1, 2, 3, 4, 5]\n",
    "initial_value = 10\n",
    "product = reduce(lambda x, y: x * y, my_list, initial_value)\n",
    "print(product)"
   ]
  },
  {
   "cell_type": "markdown",
   "id": "ea157c6f-8eb6-429c-b4ae-bd467c8cc9aa",
   "metadata": {},
   "source": [
    "## filter()"
   ]
  },
  {
   "cell_type": "code",
   "execution_count": 32,
   "id": "56f50650-0a50-41c4-963a-a1d663b558ff",
   "metadata": {},
   "outputs": [
    {
     "name": "stdout",
     "output_type": "stream",
     "text": [
      "[2, 4, 6, 8]\n"
     ]
    }
   ],
   "source": [
    "my_list = [1, 2, 3, 4, 5, 6, 7, 8, 9]\n",
    "\n",
    "filtered_list = list(filter(lambda x: x % 2 == 0, my_list))\n",
    "\n",
    "print(filtered_list)"
   ]
  },
  {
   "cell_type": "code",
   "execution_count": 33,
   "id": "36974480-85e6-47d8-ba40-7de93dc10e99",
   "metadata": {},
   "outputs": [
    {
     "name": "stdout",
     "output_type": "stream",
     "text": [
      "['spam', 'eggs', 'spam']\n"
     ]
    }
   ],
   "source": [
    "my_list = ['', 'spam', '', 'eggs', '', 'spam']\n",
    "\n",
    "filtered_list = list(filter(lambda x: x != '', my_list))\n",
    "\n",
    "print(filtered_list)"
   ]
  },
  {
   "cell_type": "markdown",
   "id": "ce91f7e7-507d-42c5-b4f9-2276b9b86ce0",
   "metadata": {},
   "source": [
    "# Python User-Defined Functions"
   ]
  },
  {
   "cell_type": "code",
   "execution_count": 34,
   "id": "9275bea4-e1db-44c1-8d83-4068e6cc4b62",
   "metadata": {},
   "outputs": [],
   "source": [
    "def add_numbers(a, b):\n",
    "    sum = a + b\n",
    "    return sum"
   ]
  },
  {
   "cell_type": "code",
   "execution_count": 35,
   "id": "5260832e-5441-48e6-8e1b-a53f0a05e283",
   "metadata": {},
   "outputs": [
    {
     "name": "stdout",
     "output_type": "stream",
     "text": [
      "8\n"
     ]
    }
   ],
   "source": [
    "result = add_numbers(a = 3, b = 5)\n",
    "print(result)"
   ]
  },
  {
   "cell_type": "code",
   "execution_count": 36,
   "id": "cb7c504a-ad52-451e-a655-0581c54a55be",
   "metadata": {},
   "outputs": [],
   "source": [
    "def greet(name, greeting='Hello'):\n",
    "    message = f\"{greeting}, {name}!\"\n",
    "    return message"
   ]
  },
  {
   "cell_type": "code",
   "execution_count": 37,
   "id": "590e2e52-921e-4027-a89e-1eab87acbbbe",
   "metadata": {},
   "outputs": [
    {
     "name": "stdout",
     "output_type": "stream",
     "text": [
      "Hi, Bob!\n"
     ]
    }
   ],
   "source": [
    "# print(greet('Alice'))\n",
    "print(greet('Bob', 'Hi'))"
   ]
  },
  {
   "cell_type": "code",
   "execution_count": 38,
   "id": "5466686b-3571-4eef-b8c5-43625f308ea0",
   "metadata": {},
   "outputs": [
    {
     "name": "stdout",
     "output_type": "stream",
     "text": [
      "Positional arguments:\n",
      "1\n",
      "hello\n",
      "ram\n",
      "--------------------\n",
      "Keyword arguments:\n",
      "name = Alice\n",
      "age = 30\n",
      "gender = male\n"
     ]
    }
   ],
   "source": [
    "def print_arguments(*args, **kwargs):\n",
    "    \n",
    "    print(\"Positional arguments:\")\n",
    "    for arg in args:\n",
    "        print(arg)\n",
    "        \n",
    "    print(\"-\"*20)\n",
    "    \n",
    "    print(\"Keyword arguments:\")\n",
    "    for key, value in kwargs.items():\n",
    "        print(key, \"=\", value)\n",
    "\n",
    "print_arguments(1, 'hello', \"ram\",  name='Alice', age=30, gender = \"male\")"
   ]
  },
  {
   "cell_type": "markdown",
   "id": "b6ef4852-4270-4a63-899f-475cec88e8fe",
   "metadata": {},
   "source": [
    "## Documentation in Function"
   ]
  },
  {
   "cell_type": "code",
   "execution_count": 39,
   "id": "d541fd47-f708-400f-86f9-d3b27c3e0a03",
   "metadata": {},
   "outputs": [],
   "source": [
    "def square(n):\n",
    "    '''\n",
    "    Takes in a number n, returns the square of n\n",
    "\n",
    "    Argument:\n",
    "        n (int) : User input number\n",
    "    '''\n",
    "    return n**2"
   ]
  },
  {
   "cell_type": "code",
   "execution_count": 40,
   "id": "2d77e0b8-562d-4508-ba5a-50b0a69eede2",
   "metadata": {},
   "outputs": [
    {
     "data": {
      "text/plain": [
       "'\\n    Takes in a number n, returns the square of n\\n\\n    Argument:\\n        n (int) : User input number\\n    '"
      ]
     },
     "execution_count": 40,
     "metadata": {},
     "output_type": "execute_result"
    }
   ],
   "source": [
    "square.__doc__"
   ]
  },
  {
   "cell_type": "code",
   "execution_count": 41,
   "id": "0efdec35-d9d7-43f4-be8a-ef7d7ab231aa",
   "metadata": {},
   "outputs": [
    {
     "data": {
      "text/plain": [
       "'Prints the values to a stream, or to sys.stdout by default.\\n\\n  sep\\n    string inserted between values, default a space.\\n  end\\n    string appended after the last value, default a newline.\\n  file\\n    a file-like object (stream); defaults to the current sys.stdout.\\n  flush\\n    whether to forcibly flush the stream.'"
      ]
     },
     "execution_count": 41,
     "metadata": {},
     "output_type": "execute_result"
    }
   ],
   "source": [
    "print.__doc__"
   ]
  },
  {
   "cell_type": "markdown",
   "id": "cee4f994-ab61-4ecf-81c9-6aaf2d65b80e",
   "metadata": {},
   "source": [
    "## Question: Default Parameter Values\n",
    "## Write a Program to Define a Function power that takes two arguments, base and exp. The function should return base raised to the power of exp."
   ]
  },
  {
   "cell_type": "code",
   "execution_count": 42,
   "id": "338d78da-12dc-4d56-9a21-18521f03449c",
   "metadata": {},
   "outputs": [
    {
     "name": "stdout",
     "output_type": "stream",
     "text": [
      "4\n",
      "32\n"
     ]
    }
   ],
   "source": [
    "def power(base: int, exp = 2):\n",
    "    result = base ** exp\n",
    "    return result\n",
    "\n",
    "squared = power(2)\n",
    "print(squared)\n",
    "\n",
    "print(power(2,5))"
   ]
  },
  {
   "cell_type": "markdown",
   "id": "4cfcabbd-5b97-4238-b91f-8810a0ea98f7",
   "metadata": {},
   "source": [
    "## Question : Variable-length Arguments (*args and **kwargs)\n",
    "## Write a Program to Define a Function describe_pet that accepts a variable number of keyword arguments (**kwargs)."
   ]
  },
  {
   "cell_type": "code",
   "execution_count": 43,
   "id": "8a8749f5-7370-443e-8da1-746fb2f36880",
   "metadata": {},
   "outputs": [
    {
     "name": "stdout",
     "output_type": "stream",
     "text": [
      "name : jojo\n",
      "type : dog\n",
      "age : 5\n",
      "breed : bulldog\n"
     ]
    }
   ],
   "source": [
    "# Input :  describe_pet(name=\"Rex\", age=5, type=\"dog\")\n",
    "# Output : name: Rex\n",
    "#          age: 5\n",
    "#          type: dog\n",
    "\n",
    "def describe_pet(**kwargs):\n",
    "    name = kwargs['name']\n",
    "    \n",
    "    for key,value in kwargs.items():\n",
    "        print(f'{key} : {value}')\n",
    "      \n",
    "describe_pet(name='jojo',type='dog',age=5,breed='bulldog')"
   ]
  },
  {
   "cell_type": "markdown",
   "id": "7f0745ec-f988-4e50-a6e2-4a3789c73ae0",
   "metadata": {},
   "source": [
    "## Question : Calculate Std. Deviation of given list.\n",
    " \n"
   ]
  },
  {
   "cell_type": "code",
   "execution_count": 44,
   "id": "274b50e7-bd94-4088-8174-6f3df948b579",
   "metadata": {},
   "outputs": [
    {
     "name": "stdout",
     "output_type": "stream",
     "text": [
      "6.340668863192041\n"
     ]
    }
   ],
   "source": [
    "from math import sqrt\n",
    "\n",
    "def std_deviation( value ):\n",
    "\n",
    "    # Find N\n",
    "    N = len(value)\n",
    "    \n",
    "    # Mean\n",
    "    x_bar = sum(value) / N\n",
    "    \n",
    "    # sq \n",
    "    summation = sum([(x - x_bar)**2 for x in value])\n",
    "    \n",
    "    # std\n",
    "    result = sqrt(summation / N )\n",
    "    \n",
    "    return result \n",
    "\n",
    "print(std_deviation([1,4,6,8,4,9,22]))"
   ]
  },
  {
   "cell_type": "markdown",
   "id": "4c45bcfc-7807-4c90-a0e3-474daa2e4d03",
   "metadata": {},
   "source": [
    "# Python Lambda Expressions"
   ]
  },
  {
   "cell_type": "code",
   "execution_count": 45,
   "id": "3242c2d7-adc8-44aa-a926-92992a661dec",
   "metadata": {},
   "outputs": [
    {
     "name": "stdout",
     "output_type": "stream",
     "text": [
      "8\n"
     ]
    }
   ],
   "source": [
    "sum = lambda a, b: a + b\n",
    "\n",
    "result = sum(3, 5)\n",
    "\n",
    "print(result)"
   ]
  },
  {
   "cell_type": "code",
   "execution_count": 46,
   "id": "42ccc10b-3012-45e0-aa2a-f557b6b49364",
   "metadata": {},
   "outputs": [
    {
     "name": "stdout",
     "output_type": "stream",
     "text": [
      "[1, 4, 9, 16, 25]\n"
     ]
    }
   ],
   "source": [
    "numbers = [1, 2, 3, 4, 5]\n",
    "squares = list(map(lambda x: x**2, numbers))\n",
    "print(squares)"
   ]
  },
  {
   "cell_type": "code",
   "execution_count": 47,
   "id": "59fa67fd-9831-4900-9606-b3410c20c66f",
   "metadata": {},
   "outputs": [
    {
     "data": {
      "text/plain": [
       "572"
      ]
     },
     "execution_count": 47,
     "metadata": {},
     "output_type": "execute_result"
    }
   ],
   "source": [
    "area = lambda l, b, h : 2*h*(l+b)\n",
    "area(10,12,13)"
   ]
  },
  {
   "cell_type": "code",
   "execution_count": null,
   "id": "b3466129-7c76-456a-8289-72b6b6c6a0c1",
   "metadata": {},
   "outputs": [],
   "source": []
  }
 ],
 "metadata": {
  "kernelspec": {
   "display_name": "Python 3 (ipykernel)",
   "language": "python",
   "name": "python3"
  },
  "language_info": {
   "codemirror_mode": {
    "name": "ipython",
    "version": 3
   },
   "file_extension": ".py",
   "mimetype": "text/x-python",
   "name": "python",
   "nbconvert_exporter": "python",
   "pygments_lexer": "ipython3",
   "version": "3.12.1"
  }
 },
 "nbformat": 4,
 "nbformat_minor": 5
}
