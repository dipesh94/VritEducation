{
 "cells": [
  {
   "cell_type": "markdown",
   "id": "a208f136-095b-4405-b8d2-c23e076f8c71",
   "metadata": {},
   "source": [
    "# **1. Personal Information**"
   ]
  },
  {
   "cell_type": "code",
   "execution_count": 4,
   "id": "1464d63d-f95f-4e83-b24c-ec8a0508961f",
   "metadata": {},
   "outputs": [
    {
     "name": "stdout",
     "output_type": "stream",
     "text": [
      "Enter your name:  Dipesh\n",
      "Enter your age:  24\n"
     ]
    },
    {
     "name": "stdout",
     "output_type": "stream",
     "text": [
      "Hello, my name is Dipesh and I am 24 years old.\n"
     ]
    }
   ],
   "source": [
    "name = str(input(\"Enter your name: \"))\n",
    "age = int(input(\"Enter your age: \"))\n",
    "\n",
    "print(f\"Hello, my name is {name} and I am {age} years old.\")"
   ]
  },
  {
   "cell_type": "markdown",
   "id": "a02ef8d3-cff3-45e0-887e-f59a0fd445cd",
   "metadata": {},
   "source": [
    "# **2. Favourite Hobbies**"
   ]
  },
  {
   "cell_type": "code",
   "execution_count": 11,
   "id": "7f29236e-f28d-4bac-801c-73f636ff18fe",
   "metadata": {},
   "outputs": [
    {
     "name": "stdout",
     "output_type": "stream",
     "text": [
      "['Hiking', 'Drawing', 'Dancing', 'Photography']\n"
     ]
    }
   ],
   "source": [
    "favourite_hobbies = ['Hiking', 'Drawing', 'Dancing']\n",
    "favourite_hobbies.append('Photography')\n",
    "print(favourite_hobbies)"
   ]
  },
  {
   "cell_type": "markdown",
   "id": "0fe323a5-ab52-4db7-90cc-c9d147535a2b",
   "metadata": {},
   "source": [
    "# **3. Screen Dimensions**"
   ]
  },
  {
   "cell_type": "code",
   "execution_count": 19,
   "id": "9404e924-a21a-4efd-b213-f58dc53e7642",
   "metadata": {},
   "outputs": [],
   "source": [
    "screen_dimensions = (1920, 1080)\n",
    "# screen_dimensions.pop() # Tuple is immutable so it shows an attribute error when we try to modify it.\n",
    "# print(screen_dimensions)"
   ]
  },
  {
   "cell_type": "markdown",
   "id": "1b800665-8d24-45a2-ae38-109acf580d96",
   "metadata": {},
   "source": [
    "# **4. Pet Description**"
   ]
  },
  {
   "cell_type": "code",
   "execution_count": 27,
   "id": "46195e6b-28d2-46b9-a2a8-f9e35a3b1a09",
   "metadata": {},
   "outputs": [
    {
     "name": "stdout",
     "output_type": "stream",
     "text": [
      "My pet name is Husky and it's color is White.\n"
     ]
    }
   ],
   "source": [
    "pet = {\n",
    "    'type' : 'Dog',\n",
    "    'name' : 'Husky',\n",
    "    'age' : 4\n",
    "}\n",
    "pet['color'] = 'White'\n",
    "\n",
    "pet\n",
    "\n",
    "print(f\"My pet name is {pet['name']} and it's color is {pet['color']}.\")"
   ]
  },
  {
   "cell_type": "markdown",
   "id": "c17f53c6-751f-4bc2-b6c8-853318f9a3f2",
   "metadata": {},
   "source": [
    "# **5. Adult Status**"
   ]
  },
  {
   "cell_type": "code",
   "execution_count": 32,
   "id": "b7435ba6-462f-4134-bb96-d4a8e5bcfb40",
   "metadata": {},
   "outputs": [
    {
     "name": "stdout",
     "output_type": "stream",
     "text": [
      "Enter your age:  18\n"
     ]
    },
    {
     "name": "stdout",
     "output_type": "stream",
     "text": [
      "I am an adult.\n"
     ]
    }
   ],
   "source": [
    "is_adult = int(input(\"Enter your age: \"))\n",
    "\n",
    "if is_adult >= 18:\n",
    "    print(\"I am an adult.\")\n",
    "else:\n",
    "    print(\"I am not an adult.\")"
   ]
  },
  {
   "cell_type": "code",
   "execution_count": null,
   "id": "cf8ae566-53ab-4208-98c9-a2dc99db37c8",
   "metadata": {},
   "outputs": [],
   "source": []
  }
 ],
 "metadata": {
  "kernelspec": {
   "display_name": "Python 3 (ipykernel)",
   "language": "python",
   "name": "python3"
  },
  "language_info": {
   "codemirror_mode": {
    "name": "ipython",
    "version": 3
   },
   "file_extension": ".py",
   "mimetype": "text/x-python",
   "name": "python",
   "nbconvert_exporter": "python",
   "pygments_lexer": "ipython3",
   "version": "3.12.1"
  }
 },
 "nbformat": 4,
 "nbformat_minor": 5
}
