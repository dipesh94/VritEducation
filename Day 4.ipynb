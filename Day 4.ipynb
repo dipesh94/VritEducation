{
 "cells": [
  {
   "cell_type": "markdown",
   "id": "c0b0d5bd-6ee2-4d56-b211-a032d7f2076e",
   "metadata": {},
   "source": [
    "# Python Comprehensions"
   ]
  },
  {
   "cell_type": "markdown",
   "id": "76520ff3-c196-474c-9c36-01528df065bb",
   "metadata": {},
   "source": [
    "## 1. List Comprehensions"
   ]
  },
  {
   "cell_type": "code",
   "execution_count": 2,
   "id": "5326810e-e1f4-4d08-b691-1d0160f17203",
   "metadata": {},
   "outputs": [],
   "source": [
    "numbers = [1, 2, 3, 4, 5]"
   ]
  },
  {
   "cell_type": "code",
   "execution_count": 3,
   "id": "48e61c5c-73da-4ffc-b70e-abaa5fa672b4",
   "metadata": {},
   "outputs": [
    {
     "name": "stdout",
     "output_type": "stream",
     "text": [
      "[1, 4, 9, 16, 25]\n"
     ]
    }
   ],
   "source": [
    "# Usual Way\n",
    "\n",
    "squared = []\n",
    "for each in numbers:\n",
    "    squared.append(each ** 2)\n",
    "\n",
    "print(squared)"
   ]
  },
  {
   "cell_type": "code",
   "execution_count": 4,
   "id": "13d9a27d-8e13-4a45-ac15-eba31535e716",
   "metadata": {},
   "outputs": [
    {
     "name": "stdout",
     "output_type": "stream",
     "text": [
      "[1, 4, 9, 16, 25]\n"
     ]
    }
   ],
   "source": [
    "# List Comprehension \n",
    "\n",
    "squared = [each ** 2 for each in numbers]\n",
    "print(squared)"
   ]
  },
  {
   "cell_type": "code",
   "execution_count": 5,
   "id": "5f087298-de7c-4d39-9d2a-df9875653a2e",
   "metadata": {},
   "outputs": [
    {
     "name": "stdout",
     "output_type": "stream",
     "text": [
      "[1, 3, 5]\n"
     ]
    }
   ],
   "source": [
    "# numbers = [1, 2, 3, 4, 5]\n",
    "odds = [ num for num in range(1,6) if num % 2 != 0]\n",
    "print(odds)"
   ]
  },
  {
   "cell_type": "code",
   "execution_count": 6,
   "id": "b68ddb4f-a0cf-4964-beaa-d93da0324df7",
   "metadata": {},
   "outputs": [
    {
     "name": "stdout",
     "output_type": "stream",
     "text": [
      "[('a', 1), ('a', 2), ('a', 3), ('b', 1), ('b', 2), ('b', 3), ('c', 1), ('c', 2), ('c', 3)]\n"
     ]
    }
   ],
   "source": [
    "letters = ['a', 'b', 'c']\n",
    "numbers = [1, 2, 3]\n",
    "pairs = [\n",
    "    (letter, number) for letter in letters for number in numbers\n",
    "]\n",
    "print(pairs)"
   ]
  },
  {
   "cell_type": "code",
   "execution_count": 7,
   "id": "ff94e4d1-c12d-4329-b435-e6d0e96d052f",
   "metadata": {},
   "outputs": [
    {
     "name": "stdout",
     "output_type": "stream",
     "text": [
      "[('red', 'apple'), ('red', 'banana'), ('red', 'cherry'), ('big', 'apple'), ('big', 'banana'), ('big', 'cherry'), ('tasty', 'apple'), ('tasty', 'banana'), ('tasty', 'cherry')]\n"
     ]
    }
   ],
   "source": [
    "adj = ['red', 'big', 'tasty']\n",
    "fruits = ['apple', 'banana', 'cherry']\n",
    "\n",
    "# for a in adj:\n",
    "#     for f in fruits:\n",
    "#         print(a, f)\n",
    "result = [ (a,f) for a in adj for f in fruits ]\n",
    "print(result)"
   ]
  },
  {
   "cell_type": "markdown",
   "id": "83d070be-c924-473b-a1f9-dfa4247652ed",
   "metadata": {},
   "source": [
    "### Find Length of each word in words = ['data', 'science', 'machine', 'learning']"
   ]
  },
  {
   "cell_type": "code",
   "execution_count": 9,
   "id": "7aca3194-bdf9-417b-afda-fa9696e6edf0",
   "metadata": {},
   "outputs": [
    {
     "name": "stdout",
     "output_type": "stream",
     "text": [
      "[4, 7, 7, 8]\n"
     ]
    }
   ],
   "source": [
    "words = ['data', 'science', 'machine', 'learning']\n",
    "\n",
    "result = []\n",
    "for word in words:\n",
    "    result.append(len(word))\n",
    "\n",
    "print(result)"
   ]
  },
  {
   "cell_type": "code",
   "execution_count": 10,
   "id": "f3620323-8373-43c2-8191-6368aa83d577",
   "metadata": {},
   "outputs": [
    {
     "name": "stdout",
     "output_type": "stream",
     "text": [
      "[4, 7, 7, 8]\n"
     ]
    }
   ],
   "source": [
    "words = ['data', 'science', 'machine', 'learning']\n",
    "\n",
    "length = [ len(word) for word in words ]\n",
    "print(length)"
   ]
  },
  {
   "cell_type": "markdown",
   "id": "2e09246a-4d2e-494d-8882-cf9a56b19947",
   "metadata": {},
   "source": [
    "###  Positive Numbers Doubled"
   ]
  },
  {
   "cell_type": "code",
   "execution_count": 11,
   "id": "ab35f068-4230-4ddb-9714-9ea3838abcd4",
   "metadata": {},
   "outputs": [
    {
     "name": "stdout",
     "output_type": "stream",
     "text": [
      "{8, 2, 4, 6}\n"
     ]
    }
   ],
   "source": [
    "input_list = [-2, -1, 0, 1, 3, 2, 3, 4]\n",
    "\n",
    "result = { each * 2 for each in input_list if each > 0}\n",
    "\n",
    "print(result)"
   ]
  },
  {
   "cell_type": "markdown",
   "id": "b292233e-3d2e-4924-91c6-679276273040",
   "metadata": {},
   "source": [
    "## 2. Dictionary Comprehension"
   ]
  },
  {
   "cell_type": "code",
   "execution_count": 12,
   "id": "105254a7-f7e8-409b-a68c-a9106c58b9bd",
   "metadata": {},
   "outputs": [
    {
     "name": "stdout",
     "output_type": "stream",
     "text": [
      "{2: 4, 4: 16}\n"
     ]
    }
   ],
   "source": [
    "numbers = [1, 2, 3, 4, 5]\n",
    "\n",
    "odds_dict = {}\n",
    "for num in range(1,6):\n",
    "    if num % 2 == 0:\n",
    "        odds_dict[num] = num ** 2\n",
    "\n",
    "print(odds_dict)"
   ]
  },
  {
   "cell_type": "code",
   "execution_count": 13,
   "id": "acd3a938-2855-40e4-a148-a4badc1d938a",
   "metadata": {},
   "outputs": [
    {
     "name": "stdout",
     "output_type": "stream",
     "text": [
      "{1: 1, 3: 9, 5: 25}\n"
     ]
    }
   ],
   "source": [
    "numbers = [1, 2, 3, 4, 5]\n",
    "\n",
    "odds_dict = {num: num ** 2 for num in numbers if num % 2 != 0}\n",
    "\n",
    "print(odds_dict)"
   ]
  },
  {
   "cell_type": "code",
   "execution_count": 14,
   "id": "6dd406c3-252c-4466-a3f2-c0b1dad434e7",
   "metadata": {},
   "outputs": [
    {
     "name": "stdout",
     "output_type": "stream",
     "text": [
      "{'o': 1, 'l': 2, 'h': 1, 'e': 1}\n"
     ]
    }
   ],
   "source": [
    "word = 'hello'\n",
    "letter_counts = {letter: word.count(letter) for letter in set(word)}\n",
    "print(letter_counts)"
   ]
  },
  {
   "cell_type": "markdown",
   "id": "56caf0cb-82ee-4e59-8d5d-b803e6e62a18",
   "metadata": {},
   "source": [
    "### 1. Find Length of each word in words = ['data', 'science', 'machine', 'learning', 'Deep', 'Python', 'dict'] and store as {word:length .... }."
   ]
  },
  {
   "cell_type": "markdown",
   "id": "4761a3b3-6f4c-405c-8246-82fb8f9fb968",
   "metadata": {},
   "source": [
    "### 2. Also, add a condition to show words that have length 5 or greater."
   ]
  },
  {
   "cell_type": "code",
   "execution_count": 15,
   "id": "6b236219-fbcc-4c42-a061-6f7c9c21411c",
   "metadata": {},
   "outputs": [
    {
     "name": "stdout",
     "output_type": "stream",
     "text": [
      "{'data': 4, 'science': 7, 'machine': 7, 'learning': 8}\n"
     ]
    }
   ],
   "source": [
    "# 1\n",
    "\n",
    "word=['data','science','machine','learning']\n",
    "\n",
    "word_detail={ data: len(data) for data in word }\n",
    "\n",
    "print(word_detail)"
   ]
  },
  {
   "cell_type": "code",
   "execution_count": 16,
   "id": "2d2b7e96-3326-47df-8f92-1d7b4b11d6c4",
   "metadata": {},
   "outputs": [
    {
     "name": "stdout",
     "output_type": "stream",
     "text": [
      "{'science': 7, 'machine': 7, 'learning': 8, 'Python': 6}\n"
     ]
    }
   ],
   "source": [
    "# 2\n",
    "\n",
    "word=['data', 'science', 'machine', 'learning', 'Deep', 'Python', 'dict']\n",
    "\n",
    "word_detail={ data: len(data) for data in word if len(data) >= 5}\n",
    "\n",
    "print(word_detail)"
   ]
  },
  {
   "cell_type": "markdown",
   "id": "6f0b4685-2ada-4862-9c89-5f3d1e4c9d05",
   "metadata": {},
   "source": [
    "## 3. Set Comprehension"
   ]
  },
  {
   "cell_type": "code",
   "execution_count": 17,
   "id": "1b5c5e48-ed54-4a23-ae5f-5bf06cf737c9",
   "metadata": {},
   "outputs": [
    {
     "name": "stdout",
     "output_type": "stream",
     "text": [
      "{1, 9, 25}\n"
     ]
    }
   ],
   "source": [
    "numbers = [1, 2, 3, 4, 5]\n",
    "odds_set = {num ** 2 for num in numbers if num % 2 != 0}\n",
    "print(odds_set)"
   ]
  },
  {
   "cell_type": "code",
   "execution_count": 18,
   "id": "597d183f-45b8-4b11-a97a-1053a2e8f603",
   "metadata": {},
   "outputs": [
    {
     "name": "stdout",
     "output_type": "stream",
     "text": [
      "{'ba', 'aa', 'bb', 'ac', 'cc', 'ca', 'bc', 'ab', 'cb'}\n"
     ]
    }
   ],
   "source": [
    "letters = {'a', 'b', 'c'}\n",
    "pairs = {letter1 + letter2 for letter1 in letters for letter2 in letters}\n",
    "print(pairs)"
   ]
  },
  {
   "cell_type": "markdown",
   "id": "7240d33f-d3aa-47dd-8048-348610f1ed77",
   "metadata": {},
   "source": [
    "### Unique Vowels in a String"
   ]
  },
  {
   "cell_type": "code",
   "execution_count": 20,
   "id": "48cca29e-63f4-4b11-a37c-bdbf98f0b137",
   "metadata": {},
   "outputs": [],
   "source": [
    "sent = set(\"The quick brown fox jump over a lazy dog\")\n",
    "vowels = set(\"aeiou\")"
   ]
  },
  {
   "cell_type": "code",
   "execution_count": 21,
   "id": "3d794a21-c015-44a3-b7bf-35ee7177ff3e",
   "metadata": {},
   "outputs": [],
   "source": [
    "output = {\n",
    "    char for char in sent if char in vowels\n",
    "}"
   ]
  },
  {
   "cell_type": "code",
   "execution_count": 22,
   "id": "e8136032-d372-4609-9a2b-afb4b7d7f202",
   "metadata": {},
   "outputs": [
    {
     "data": {
      "text/plain": [
       "{'a', 'e', 'i', 'o', 'u'}"
      ]
     },
     "execution_count": 22,
     "metadata": {},
     "output_type": "execute_result"
    }
   ],
   "source": [
    "output"
   ]
  },
  {
   "cell_type": "code",
   "execution_count": 23,
   "id": "acdda8ff-58f0-4a1d-b7ef-9a7decb03d0a",
   "metadata": {},
   "outputs": [
    {
     "name": "stdout",
     "output_type": "stream",
     "text": [
      "{'T', 'b', 'k', 'w', 'q', 'v', 'e', 'r', 'j', 'p', 'u', 'h', ' ', 'm', 'z', 'a', 'y', 'x', 'i', 'g', 'f', 'c', 'o', 'n', 'd', 'l'}\n"
     ]
    }
   ],
   "source": [
    "print(sent)"
   ]
  },
  {
   "cell_type": "code",
   "execution_count": null,
   "id": "1f25c628-aab2-42c9-8b5d-108f959d9a5f",
   "metadata": {},
   "outputs": [],
   "source": []
  }
 ],
 "metadata": {
  "kernelspec": {
   "display_name": "Python 3 (ipykernel)",
   "language": "python",
   "name": "python3"
  },
  "language_info": {
   "codemirror_mode": {
    "name": "ipython",
    "version": 3
   },
   "file_extension": ".py",
   "mimetype": "text/x-python",
   "name": "python",
   "nbconvert_exporter": "python",
   "pygments_lexer": "ipython3",
   "version": "3.12.1"
  }
 },
 "nbformat": 4,
 "nbformat_minor": 5
}
