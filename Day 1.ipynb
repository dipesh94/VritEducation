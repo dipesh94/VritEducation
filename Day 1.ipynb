{
 "cells": [
  {
   "cell_type": "markdown",
   "id": "7f03ef08-c4dc-4b90-b5c1-dc94e1a1f2d8",
   "metadata": {},
   "source": [
    "# Python Numeric Types"
   ]
  },
  {
   "cell_type": "markdown",
   "id": "1047f3a7-3ec4-4c85-ad69-807fdfc9cd52",
   "metadata": {},
   "source": [
    "## Integers"
   ]
  },
  {
   "cell_type": "code",
   "execution_count": 1,
   "id": "b4d6c4c5-131d-4b74-bd74-e5ee8a19f4ba",
   "metadata": {},
   "outputs": [],
   "source": [
    "x = 10\n",
    "y = -5\n",
    "z = 1000000000000000000000"
   ]
  },
  {
   "cell_type": "code",
   "execution_count": 2,
   "id": "9074ea2a-5228-49da-8e8a-58a573d34701",
   "metadata": {},
   "outputs": [],
   "source": [
    "value = 99"
   ]
  },
  {
   "cell_type": "code",
   "execution_count": 3,
   "id": "f0bc5182-3917-46d1-921b-14c9a4839f83",
   "metadata": {},
   "outputs": [
    {
     "name": "stdout",
     "output_type": "stream",
     "text": [
      "99\n"
     ]
    }
   ],
   "source": [
    "print(value)"
   ]
  },
  {
   "cell_type": "code",
   "execution_count": 4,
   "id": "88a38b6d-4927-4e87-8c68-befca652c8c8",
   "metadata": {},
   "outputs": [
    {
     "data": {
      "text/plain": [
       "type"
      ]
     },
     "execution_count": 4,
     "metadata": {},
     "output_type": "execute_result"
    }
   ],
   "source": [
    "type(int)"
   ]
  },
  {
   "cell_type": "markdown",
   "id": "630f6cb1-2659-4741-adee-82d64a5b6314",
   "metadata": {},
   "source": [
    "## Floating-point Numbers"
   ]
  },
  {
   "cell_type": "code",
   "execution_count": 5,
   "id": "1d5edcbb-451c-4b46-99e6-25ba31137481",
   "metadata": {},
   "outputs": [],
   "source": [
    "x = 3.1455555555555555555555\n",
    "y = -0.5\n",
    "z = 1.5256e-5"
   ]
  },
  {
   "cell_type": "code",
   "execution_count": 6,
   "id": "26edada4-023b-4f41-aa37-b6a347dd82fe",
   "metadata": {},
   "outputs": [
    {
     "data": {
      "text/plain": [
       "3.1455555555555557"
      ]
     },
     "execution_count": 6,
     "metadata": {},
     "output_type": "execute_result"
    }
   ],
   "source": [
    "x"
   ]
  },
  {
   "cell_type": "markdown",
   "id": "a1723b50-ae8a-4a6b-b527-e77cd37bed70",
   "metadata": {},
   "source": [
    "## Complex Numbers"
   ]
  },
  {
   "cell_type": "code",
   "execution_count": 8,
   "id": "4ea01098-bf9b-4cb6-bae4-acf182d8e204",
   "metadata": {},
   "outputs": [],
   "source": [
    "x = 3 + 4j\n",
    "y = -1j\n",
    "z = complex(2, -3)"
   ]
  },
  {
   "cell_type": "code",
   "execution_count": 10,
   "id": "6c51759c-2a1d-44a0-9a80-42f1d54569af",
   "metadata": {},
   "outputs": [],
   "source": [
    "x = 3 + 4j"
   ]
  },
  {
   "cell_type": "code",
   "execution_count": 12,
   "id": "b7931bbe-d6a6-42ac-8587-89ac13bbddde",
   "metadata": {},
   "outputs": [
    {
     "data": {
      "text/plain": [
       "(22+4j)"
      ]
     },
     "execution_count": 12,
     "metadata": {},
     "output_type": "execute_result"
    }
   ],
   "source": [
    "complex(22, 4)"
   ]
  },
  {
   "cell_type": "markdown",
   "id": "8010d583-fed2-4b7f-8777-f2c002d79bcf",
   "metadata": {},
   "source": [
    "# Arithmetic Operations"
   ]
  },
  {
   "cell_type": "code",
   "execution_count": 13,
   "id": "3e2c1415-105b-4b6d-bbaa-bc1719f11121",
   "metadata": {},
   "outputs": [],
   "source": [
    "x = 10\n",
    "y = 3"
   ]
  },
  {
   "cell_type": "code",
   "execution_count": 14,
   "id": "593973b6-14b0-4287-a988-c0d87daef048",
   "metadata": {},
   "outputs": [],
   "source": [
    "# print(x + y)\n",
    "# print(x - y)\n",
    "# print(x * y)\n",
    "# print(x / y)\n",
    "# print(x ** y) # 10^3\n",
    "# print(x // y)  # Floor Division\n",
    "# print(x % 3)  # Modulo Operator"
   ]
  },
  {
   "cell_type": "markdown",
   "id": "31803c58-53fe-424d-9889-c0d6b1636cd6",
   "metadata": {},
   "source": [
    "# Type Conversion"
   ]
  },
  {
   "cell_type": "code",
   "execution_count": 15,
   "id": "ae2e1007-8b1a-4ffb-baf7-f28b29688499",
   "metadata": {},
   "outputs": [],
   "source": [
    "x = 10\n",
    "y = 3.14\n",
    "\n",
    "x = float(x)    # Convert x to a float\n",
    "y = int(y)      # Convert y to an integer\n",
    "z = complex(x, y)  # Create a complex number from x and y"
   ]
  },
  {
   "cell_type": "code",
   "execution_count": 16,
   "id": "dc0ef61f-a0dc-496e-acb8-35a516101ef9",
   "metadata": {},
   "outputs": [
    {
     "data": {
      "text/plain": [
       "10.0"
      ]
     },
     "execution_count": 16,
     "metadata": {},
     "output_type": "execute_result"
    }
   ],
   "source": [
    "x"
   ]
  },
  {
   "cell_type": "code",
   "execution_count": 17,
   "id": "64fff9b7-3d11-4949-bdfd-d181119e3c0c",
   "metadata": {},
   "outputs": [
    {
     "data": {
      "text/plain": [
       "(10+3j)"
      ]
     },
     "execution_count": 17,
     "metadata": {},
     "output_type": "execute_result"
    }
   ],
   "source": [
    "z"
   ]
  },
  {
   "cell_type": "markdown",
   "id": "249544da-9d9c-44a2-89b7-1bef8e0c6c0a",
   "metadata": {},
   "source": [
    "# Comparison Operators"
   ]
  },
  {
   "cell_type": "code",
   "execution_count": 18,
   "id": "5aec87ea-2fc8-48b9-8d8a-2cd05cecf8c8",
   "metadata": {},
   "outputs": [
    {
     "name": "stdout",
     "output_type": "stream",
     "text": [
      "True\n",
      "False\n"
     ]
    }
   ],
   "source": [
    "x = 10\n",
    "y = 5\n",
    "\n",
    "print(x > y)\n",
    "print(x == y)"
   ]
  },
  {
   "cell_type": "code",
   "execution_count": 19,
   "id": "22a3e924-7802-4d94-a317-34c46a9a1efc",
   "metadata": {},
   "outputs": [
    {
     "data": {
      "text/plain": [
       "True"
      ]
     },
     "execution_count": 19,
     "metadata": {},
     "output_type": "execute_result"
    }
   ],
   "source": [
    "x >= y"
   ]
  },
  {
   "cell_type": "code",
   "execution_count": 20,
   "id": "5c154bfa-75f3-45a0-898e-efeca52e26d9",
   "metadata": {},
   "outputs": [
    {
     "data": {
      "text/plain": [
       "False"
      ]
     },
     "execution_count": 20,
     "metadata": {},
     "output_type": "execute_result"
    }
   ],
   "source": [
    "5 != 5"
   ]
  },
  {
   "cell_type": "markdown",
   "id": "8108163b-ef04-483b-ba31-9bdadd0f91d0",
   "metadata": {},
   "source": [
    "# Math Functions"
   ]
  },
  {
   "cell_type": "code",
   "execution_count": 21,
   "id": "4b1f4a8e-1254-4acb-9f00-5c9200c59eeb",
   "metadata": {},
   "outputs": [
    {
     "ename": "NameError",
     "evalue": "name 'sqrt' is not defined",
     "output_type": "error",
     "traceback": [
      "\u001b[1;31m---------------------------------------------------------------------------\u001b[0m",
      "\u001b[1;31mNameError\u001b[0m                                 Traceback (most recent call last)",
      "Cell \u001b[1;32mIn[21], line 12\u001b[0m\n\u001b[0;32m      6\u001b[0m x \u001b[38;5;241m=\u001b[39m \u001b[38;5;241m-\u001b[39m\u001b[38;5;241m5.3\u001b[39m\n\u001b[0;32m      8\u001b[0m \u001b[38;5;66;03m# print(abs(x))\u001b[39;00m\n\u001b[0;32m      9\u001b[0m \u001b[38;5;66;03m# print(round(x))\u001b[39;00m\n\u001b[0;32m     10\u001b[0m \u001b[38;5;66;03m# print(max(1, 2, 3))\u001b[39;00m\n\u001b[0;32m     11\u001b[0m \u001b[38;5;66;03m# print(pow(2, 3))\u001b[39;00m\n\u001b[1;32m---> 12\u001b[0m \u001b[38;5;28mprint\u001b[39m(\u001b[43msqrt\u001b[49m(\u001b[38;5;241m16\u001b[39m))\n\u001b[0;32m     13\u001b[0m \u001b[38;5;66;03m# print(math.log(10))\u001b[39;00m\n",
      "\u001b[1;31mNameError\u001b[0m: name 'sqrt' is not defined"
     ]
    }
   ],
   "source": [
    "# import math\n",
    "from math import pow\n",
    "# https://www.datacamp.com/tutorial/modules-in-python\n",
    "# https://docs.python.org/3/library/math.html\n",
    "\n",
    "x = -5.3\n",
    "\n",
    "# print(abs(x))\n",
    "# print(round(x))\n",
    "# print(max(1, 2, 3))\n",
    "# print(pow(2, 3))\n",
    "print(sqrt(16))\n",
    "# print(math.log(10))"
   ]
  },
  {
   "cell_type": "code",
   "execution_count": 22,
   "id": "ae823bc1-f54d-4ef0-a7c5-c16cce76a59e",
   "metadata": {},
   "outputs": [
    {
     "data": {
      "text/plain": [
       "5"
      ]
     },
     "execution_count": 22,
     "metadata": {},
     "output_type": "execute_result"
    }
   ],
   "source": [
    "from math import sqrt\n",
    "max(2,5,-8)"
   ]
  },
  {
   "cell_type": "code",
   "execution_count": 23,
   "id": "1cc6e7e7-658c-46d1-958b-948beac46968",
   "metadata": {},
   "outputs": [
    {
     "data": {
      "text/plain": [
       "16.0"
      ]
     },
     "execution_count": 23,
     "metadata": {},
     "output_type": "execute_result"
    }
   ],
   "source": [
    "pow(2,4)"
   ]
  },
  {
   "cell_type": "code",
   "execution_count": 24,
   "id": "a8f855b7-8d1a-4a28-9dc2-be0c7f401459",
   "metadata": {},
   "outputs": [
    {
     "ename": "NameError",
     "evalue": "name 'math' is not defined",
     "output_type": "error",
     "traceback": [
      "\u001b[1;31m---------------------------------------------------------------------------\u001b[0m",
      "\u001b[1;31mNameError\u001b[0m                                 Traceback (most recent call last)",
      "Cell \u001b[1;32mIn[24], line 1\u001b[0m\n\u001b[1;32m----> 1\u001b[0m \u001b[43mmath\u001b[49m\u001b[38;5;241m.\u001b[39msqrt(\u001b[38;5;241m14\u001b[39m)\n",
      "\u001b[1;31mNameError\u001b[0m: name 'math' is not defined"
     ]
    }
   ],
   "source": [
    "math.sqrt(14)"
   ]
  },
  {
   "cell_type": "code",
   "execution_count": 25,
   "id": "620edb12-52d4-4e60-b62a-f99aafabf772",
   "metadata": {},
   "outputs": [
    {
     "ename": "NameError",
     "evalue": "name 'math' is not defined",
     "output_type": "error",
     "traceback": [
      "\u001b[1;31m---------------------------------------------------------------------------\u001b[0m",
      "\u001b[1;31mNameError\u001b[0m                                 Traceback (most recent call last)",
      "Cell \u001b[1;32mIn[25], line 1\u001b[0m\n\u001b[1;32m----> 1\u001b[0m \u001b[43mmath\u001b[49m\u001b[38;5;241m.\u001b[39mcbrt(\u001b[38;5;241m9\u001b[39m)\n",
      "\u001b[1;31mNameError\u001b[0m: name 'math' is not defined"
     ]
    }
   ],
   "source": [
    "math.cbrt(9)"
   ]
  },
  {
   "cell_type": "markdown",
   "id": "c718f598-a306-419c-bef1-1dd1ddf640e0",
   "metadata": {},
   "source": [
    "# Python Text Type"
   ]
  },
  {
   "cell_type": "markdown",
   "id": "cf41aa35-eb13-4278-8a2c-c31a4123c0e5",
   "metadata": {},
   "source": [
    "## Defining Strings"
   ]
  },
  {
   "cell_type": "code",
   "execution_count": 26,
   "id": "ad31e966-632d-42fe-9e95-44e49d7939f1",
   "metadata": {},
   "outputs": [],
   "source": [
    "x = \"Hello, world!\"\n",
    "y = 'This is a string.'"
   ]
  },
  {
   "cell_type": "code",
   "execution_count": 27,
   "id": "53ad366b-7761-4a8e-bf0b-aeb37bd97ce8",
   "metadata": {},
   "outputs": [],
   "source": [
    "words = \" 'Hello23' \""
   ]
  },
  {
   "cell_type": "code",
   "execution_count": 28,
   "id": "d7b6d302-3af1-4e05-9ff8-f0daebe309b2",
   "metadata": {},
   "outputs": [
    {
     "data": {
      "text/plain": [
       "str"
      ]
     },
     "execution_count": 28,
     "metadata": {},
     "output_type": "execute_result"
    }
   ],
   "source": [
    "type(words)"
   ]
  },
  {
   "cell_type": "code",
   "execution_count": 29,
   "id": "6f97c586-0c28-4afe-b1a3-4226f93e2991",
   "metadata": {},
   "outputs": [
    {
     "name": "stdout",
     "output_type": "stream",
     "text": [
      " 'Hello23' \n"
     ]
    }
   ],
   "source": [
    "print(words)"
   ]
  },
  {
   "cell_type": "code",
   "execution_count": 30,
   "id": "0850a795-00b5-4fdf-8502-2c9b804683be",
   "metadata": {},
   "outputs": [
    {
     "name": "stdout",
     "output_type": "stream",
     "text": [
      "This is a string.\n"
     ]
    }
   ],
   "source": [
    "print(y)"
   ]
  },
  {
   "cell_type": "markdown",
   "id": "d0b7612d-6411-4f69-b522-b8072857f94d",
   "metadata": {},
   "source": [
    "## String methods"
   ]
  },
  {
   "cell_type": "code",
   "execution_count": 31,
   "id": "bf5c8661-59be-4832-a5d4-a5384ec079be",
   "metadata": {},
   "outputs": [
    {
     "name": "stdout",
     "output_type": "stream",
     "text": [
      "hello, world!\n"
     ]
    }
   ],
   "source": [
    "x = \"Hello, World!\"\n",
    "\n",
    "print(x.lower())"
   ]
  },
  {
   "cell_type": "code",
   "execution_count": 32,
   "id": "644b095c-7f8e-49a7-a763-8282b1b7ff73",
   "metadata": {},
   "outputs": [
    {
     "name": "stdout",
     "output_type": "stream",
     "text": [
      "HELLO, WORLD!\n"
     ]
    }
   ],
   "source": [
    "print(x.upper())"
   ]
  },
  {
   "cell_type": "code",
   "execution_count": 33,
   "id": "7fed711d-8de7-4ffd-85f8-b220663e4aa9",
   "metadata": {},
   "outputs": [
    {
     "name": "stdout",
     "output_type": "stream",
     "text": [
      "Hello, World!\n"
     ]
    }
   ],
   "source": [
    "print(x.strip())"
   ]
  },
  {
   "cell_type": "code",
   "execution_count": 34,
   "id": "cf3127c4-9cdc-4534-8664-a3783bc2d1ce",
   "metadata": {},
   "outputs": [
    {
     "name": "stdout",
     "output_type": "stream",
     "text": [
      "Hella, Warld!\n"
     ]
    }
   ],
   "source": [
    "print(x.replace(\"o\", \"a\"))"
   ]
  },
  {
   "cell_type": "code",
   "execution_count": 35,
   "id": "be5c9378-17a8-4c12-aa27-ce61d8de6491",
   "metadata": {},
   "outputs": [
    {
     "name": "stdout",
     "output_type": "stream",
     "text": [
      "['Hello', ' World!']\n"
     ]
    }
   ],
   "source": [
    "print(x.split(\",\"))"
   ]
  },
  {
   "cell_type": "code",
   "execution_count": 36,
   "id": "b6888914-c1d7-4848-91a9-85596fd593bb",
   "metadata": {},
   "outputs": [],
   "source": [
    "email = \"student@yahoo.com\""
   ]
  },
  {
   "cell_type": "code",
   "execution_count": 37,
   "id": "f6e0b20b-69f4-4801-9db2-355167fce9b3",
   "metadata": {},
   "outputs": [
    {
     "data": {
      "text/plain": [
       "False"
      ]
     },
     "execution_count": 37,
     "metadata": {},
     "output_type": "execute_result"
    }
   ],
   "source": [
    "email.endswith(\"@gmail.com\")"
   ]
  },
  {
   "cell_type": "markdown",
   "id": "be2835d4-db41-4a4a-89b2-00477024bb59",
   "metadata": {},
   "source": [
    "## String Indexing"
   ]
  },
  {
   "cell_type": "code",
   "execution_count": 38,
   "id": "c705e11c-6e38-4d7f-b52a-1856529874d7",
   "metadata": {},
   "outputs": [],
   "source": [
    "x = \"Hello, world!\""
   ]
  },
  {
   "cell_type": "code",
   "execution_count": 39,
   "id": "8bbd1b84-3f57-4df4-8447-60696813d627",
   "metadata": {},
   "outputs": [
    {
     "data": {
      "text/plain": [
       "'e'"
      ]
     },
     "execution_count": 39,
     "metadata": {},
     "output_type": "execute_result"
    }
   ],
   "source": [
    "x[1]"
   ]
  },
  {
   "cell_type": "code",
   "execution_count": 40,
   "id": "e83dc156-56dd-4919-8cdb-df43d74919c3",
   "metadata": {},
   "outputs": [
    {
     "data": {
      "text/plain": [
       "'Hello'"
      ]
     },
     "execution_count": 40,
     "metadata": {},
     "output_type": "execute_result"
    }
   ],
   "source": [
    "x[0:5]"
   ]
  },
  {
   "cell_type": "code",
   "execution_count": 41,
   "id": "5a632f67-5e8d-4067-ad10-dc40fbd91107",
   "metadata": {},
   "outputs": [
    {
     "data": {
      "text/plain": [
       "'Hello'"
      ]
     },
     "execution_count": 41,
     "metadata": {},
     "output_type": "execute_result"
    }
   ],
   "source": [
    "x[0:5]"
   ]
  },
  {
   "cell_type": "code",
   "execution_count": 42,
   "id": "4051aa88-dbd0-4668-883c-8dd0094f56da",
   "metadata": {},
   "outputs": [
    {
     "data": {
      "text/plain": [
       "', world!'"
      ]
     },
     "execution_count": 42,
     "metadata": {},
     "output_type": "execute_result"
    }
   ],
   "source": [
    "x[5:]"
   ]
  },
  {
   "cell_type": "code",
   "execution_count": 43,
   "id": "f10cafbe-e7b5-43a8-a5e1-1a01c4e7362b",
   "metadata": {},
   "outputs": [
    {
     "data": {
      "text/plain": [
       "', world!'"
      ]
     },
     "execution_count": 43,
     "metadata": {},
     "output_type": "execute_result"
    }
   ],
   "source": [
    "x[5:]"
   ]
  },
  {
   "cell_type": "code",
   "execution_count": 44,
   "id": "33caa9f0-8c3a-4c93-937c-4d185cd16505",
   "metadata": {},
   "outputs": [
    {
     "data": {
      "text/plain": [
       "'!'"
      ]
     },
     "execution_count": 44,
     "metadata": {},
     "output_type": "execute_result"
    }
   ],
   "source": [
    "x[-1]"
   ]
  },
  {
   "cell_type": "markdown",
   "id": "546fc25f-b954-48eb-8207-55815d012e4a",
   "metadata": {},
   "source": [
    "## String Slicing"
   ]
  },
  {
   "cell_type": "code",
   "execution_count": 45,
   "id": "86ecb0f3-3511-4c33-9ed3-8247dcab5a70",
   "metadata": {},
   "outputs": [
    {
     "name": "stdout",
     "output_type": "stream",
     "text": [
      "Hello\n",
      "world!\n",
      "Hello\n"
     ]
    }
   ],
   "source": [
    "x = \"Hello, world!\"\n",
    "\n",
    "print(x[0:5])\n",
    "print(x[7:])\n",
    "print(x[:5])"
   ]
  },
  {
   "cell_type": "code",
   "execution_count": 46,
   "id": "c16f2431-485e-4af9-a84d-6b80387df62a",
   "metadata": {},
   "outputs": [
    {
     "name": "stdout",
     "output_type": "stream",
     "text": [
      "Hlo ol!\n"
     ]
    }
   ],
   "source": [
    "print(x[::2])"
   ]
  },
  {
   "cell_type": "code",
   "execution_count": 47,
   "id": "3b063a25-4e40-4320-8ccc-5e4cfe8c207e",
   "metadata": {},
   "outputs": [
    {
     "name": "stdout",
     "output_type": "stream",
     "text": [
      "orl\n"
     ]
    }
   ],
   "source": [
    "print(x[-5:-2])"
   ]
  },
  {
   "cell_type": "code",
   "execution_count": 48,
   "id": "23eb982e-428b-4498-87c7-16eed1896e2d",
   "metadata": {},
   "outputs": [
    {
     "name": "stdout",
     "output_type": "stream",
     "text": [
      "!dlrow ,olleH\n"
     ]
    }
   ],
   "source": [
    "print(x[::-1])  ## Reverse String"
   ]
  },
  {
   "cell_type": "markdown",
   "id": "050ca2e1-fb6d-4f7e-ad00-6e168f63ae22",
   "metadata": {},
   "source": [
    "## String Formatting"
   ]
  },
  {
   "cell_type": "code",
   "execution_count": 49,
   "id": "4f5e8ec0-68af-461e-971e-8a54e52810e4",
   "metadata": {},
   "outputs": [],
   "source": [
    "x = \"John\"\n",
    "y = 25"
   ]
  },
  {
   "cell_type": "code",
   "execution_count": 50,
   "id": "94b0eaed-57ae-47db-bafa-e1c20737a036",
   "metadata": {},
   "outputs": [
    {
     "name": "stdout",
     "output_type": "stream",
     "text": [
      "My name is John and I am 25 years old.\n"
     ]
    }
   ],
   "source": [
    "print(\"My name is %s and I am %d years old.\" % (x, y))  # % Operator"
   ]
  },
  {
   "cell_type": "code",
   "execution_count": 51,
   "id": "6df778a6-12a9-4190-a534-db7375180649",
   "metadata": {},
   "outputs": [
    {
     "name": "stdout",
     "output_type": "stream",
     "text": [
      "My name is John and I am 25 years old.\n"
     ]
    }
   ],
   "source": [
    "print(\"My name is {} and I am {} years old.\".format(x, y))  # .format()"
   ]
  },
  {
   "cell_type": "code",
   "execution_count": 52,
   "id": "200d8244-c184-4f84-9fa6-77334d0f5898",
   "metadata": {},
   "outputs": [
    {
     "name": "stdout",
     "output_type": "stream",
     "text": [
      "My name is John and I am 25 years old.\n"
     ]
    }
   ],
   "source": [
    "print(\"My name is {0} and I am {1} years old.\".format(x, y))  # .format()"
   ]
  },
  {
   "cell_type": "code",
   "execution_count": 53,
   "id": "bf6f8ea1-140e-4241-9dd1-f87a368bf370",
   "metadata": {},
   "outputs": [
    {
     "name": "stdout",
     "output_type": "stream",
     "text": [
      "My name is John and I am 25 years old.\n"
     ]
    }
   ],
   "source": [
    "print(\"My name is {1} and I am {0} years old.\".format(y, x))  # .format()"
   ]
  },
  {
   "cell_type": "code",
   "execution_count": 54,
   "id": "789b1b2f-eae8-40ad-8e37-4ddb3495a40c",
   "metadata": {},
   "outputs": [
    {
     "name": "stdout",
     "output_type": "stream",
     "text": [
      "My name is John and I am 25 years old.\n"
     ]
    }
   ],
   "source": [
    "print(f\"My name is {x} and I am {y} years old.\")  # F-String"
   ]
  },
  {
   "cell_type": "code",
   "execution_count": 55,
   "id": "3906f8a4-aceb-4a59-b311-a28466f9c363",
   "metadata": {},
   "outputs": [],
   "source": [
    "name = \"shailesh\"\n",
    "age = 25\n",
    "g = \"Male\""
   ]
  },
  {
   "cell_type": "code",
   "execution_count": 57,
   "id": "495a37f0-0999-4c81-b7cb-41a415554b9c",
   "metadata": {},
   "outputs": [
    {
     "name": "stdout",
     "output_type": "stream",
     "text": [
      "He is shailesh , gender Male of 25 years old\n"
     ]
    }
   ],
   "source": [
    "print(f\"He is {name} , gender {g} of {age} years old\")"
   ]
  },
  {
   "cell_type": "markdown",
   "id": "537942c8-b9f2-448c-921e-018f9593c004",
   "metadata": {},
   "source": [
    "## String Cocatenation"
   ]
  },
  {
   "cell_type": "code",
   "execution_count": 58,
   "id": "076e2823-f809-41ad-9ad0-f915352c90ca",
   "metadata": {},
   "outputs": [
    {
     "name": "stdout",
     "output_type": "stream",
     "text": [
      "Hello world!\n"
     ]
    }
   ],
   "source": [
    "x = \"Hello\"\n",
    "y = \"world!\"\n",
    "\n",
    "z = x + \" \" + y\n",
    "print(z)"
   ]
  },
  {
   "cell_type": "code",
   "execution_count": 59,
   "id": "a3fa6114-f466-4e96-968a-8b2583cd2fb8",
   "metadata": {},
   "outputs": [
    {
     "name": "stdout",
     "output_type": "stream",
     "text": [
      "Shailesh  Adhikari\n"
     ]
    }
   ],
   "source": [
    "fst = \"Shailesh\"\n",
    "mdl = \"\"\n",
    "lst = \"Adhikari\"\n",
    "\n",
    "name = fst + \" \" + mdl + \" \" + lst\n",
    "print(name)"
   ]
  },
  {
   "cell_type": "markdown",
   "id": "c9dd847c-27ac-4555-88be-8802ac56fb68",
   "metadata": {},
   "source": [
    "## Advanced String Formatting with .format()"
   ]
  },
  {
   "cell_type": "markdown",
   "id": "6975fa76-4928-42fc-9349-65a3d6f4f86b",
   "metadata": {},
   "source": [
    "### Alignment"
   ]
  },
  {
   "cell_type": "code",
   "execution_count": 60,
   "id": "35c2974e-5fc5-4f2d-b466-b782b049fd1e",
   "metadata": {},
   "outputs": [
    {
     "name": "stdout",
     "output_type": "stream",
     "text": [
      "       Hello, World!\n",
      "Hello, World!       \n",
      "   Hello, World!    \n"
     ]
    }
   ],
   "source": [
    "s = \"Hello, World!\"\n",
    "\n",
    "print(\"{:>20}\".format(s)) # Right align the string in a field with a width of 20 characters\n",
    "print(\"{:<20}\".format(s)) # Left align the string in a field with a width of 20 characters\n",
    "print(\"{:^20}\".format(s)) # Center the string in a field with a width of 20 characters"
   ]
  },
  {
   "cell_type": "markdown",
   "id": "e450203c-da1c-4bc1-99c5-d1e5ed3af3fc",
   "metadata": {},
   "source": [
    "### Padding"
   ]
  },
  {
   "cell_type": "code",
   "execution_count": 61,
   "id": "13d1f799-99d9-4955-b56f-242be0c59d8a",
   "metadata": {},
   "outputs": [
    {
     "name": "stdout",
     "output_type": "stream",
     "text": [
      "_______Hello, World!\n",
      "Hello, World!.......\n",
      "---Hello, World!----\n"
     ]
    }
   ],
   "source": [
    "s = \"Hello, World!\"\n",
    "\n",
    "print(\"{:_>20}\".format(s)) # Right align the string of 20 characters, padded with underscores\n",
    "print(\"{:.<20}\".format(s)) # Left align the string of 20 characters, padded with dots\n",
    "print(\"{:-^20}\".format(s)) # Center the string of 20 characters, padded with dashes"
   ]
  },
  {
   "cell_type": "markdown",
   "id": "4de4ea3e-8a44-43b2-a71e-7561b48818de",
   "metadata": {},
   "source": [
    "### Precision"
   ]
  },
  {
   "cell_type": "code",
   "execution_count": 62,
   "id": "81b44093-bf71-4bdd-86a1-3cc9c51626e8",
   "metadata": {},
   "outputs": [
    {
     "name": "stdout",
     "output_type": "stream",
     "text": [
      "3.14\n",
      "3.14159\n"
     ]
    }
   ],
   "source": [
    "pi = 3.141592653589793\n",
    "\n",
    "print(\"{:.2f}\".format(pi))  # Show pi with 2 decimal places\n",
    "print(\"{:.5f}\".format(pi))  # Show pi with 5 decimal places"
   ]
  },
  {
   "cell_type": "code",
   "execution_count": null,
   "id": "13721368-1e6f-4881-871e-bc3d19167db5",
   "metadata": {},
   "outputs": [],
   "source": []
  }
 ],
 "metadata": {
  "kernelspec": {
   "display_name": "Python 3 (ipykernel)",
   "language": "python",
   "name": "python3"
  },
  "language_info": {
   "codemirror_mode": {
    "name": "ipython",
    "version": 3
   },
   "file_extension": ".py",
   "mimetype": "text/x-python",
   "name": "python",
   "nbconvert_exporter": "python",
   "pygments_lexer": "ipython3",
   "version": "3.12.1"
  }
 },
 "nbformat": 4,
 "nbformat_minor": 5
}
